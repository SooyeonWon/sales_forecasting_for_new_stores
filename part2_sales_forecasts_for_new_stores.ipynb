{
 "cells": [
  {
   "cell_type": "markdown",
   "metadata": {},
   "source": [
    "# Product Sales Forecasting in Retail Industry (Part 2)\n",
    "\n",
    "### by Sooyeon Won\n",
    "\n",
    "### Keywords in Part 2\n",
    "- Unsupervised Learning\n",
    "- K-Centroids Diagnostics \n",
    "- K-Centroids Clustering/ Segmentation\n",
    "- Comparisons between Clusters \n",
    "- Classification Algorithms - Decision Trees, Random Forest, Boosted Model\n",
    "\n",
    "\n",
    "## Table of Contents\n",
    "<ul>\n",
    "<li><a href=\"#Introduction\">(Part 1) 1. Introduction</a></li> \n",
    "<li><a href=\"#Preparation\">(Part 1) 2. Data Preparation</a></li>\n",
    "<li><a href=\"#Exploration\">(Part 1) 3. Data Exploration</a></li>\n",
    "<li><a href=\"#Analysis\">(Part 2/ 3) 4. Data Analysis</a></li>\n",
    "    - (Part 2) 4.1. K-Centroids Diagnostics <br>\n",
    "    - (Part 2) 4.2. K-Centroids Clustering Analysis<br>\n",
    "    - (Part 2) 4.3. Classification Models Comparisons <br>\n",
    "    - (Part 3) 4.4. Time Series Analysis <br>\n",
    "<li><a href=\"#Conclusion\">(Part 3) 5. Conclusion</a></li>\n",
    "</ul>"
   ]
  },
  {
   "cell_type": "markdown",
   "metadata": {},
   "source": [
    "### Datasets from the Analysis Part 1"
   ]
  },
  {
   "cell_type": "code",
   "execution_count": 1,
   "metadata": {},
   "outputs": [],
   "source": [
    "# Import the relevant libraries \n",
    "import numpy as np\n",
    "import pandas as pd\n",
    "import matplotlib.pyplot as plt \n",
    "%matplotlib inline\n",
    "plt.rc(\"font\", size=14)\n",
    "import seaborn as sns\n",
    "sns.set()\n",
    "sns.set(style=\"whitegrid\", color_codes=True)"
   ]
  },
  {
   "cell_type": "code",
   "execution_count": 2,
   "metadata": {
    "scrolled": true
   },
   "outputs": [],
   "source": [
    "# Load the dataset\n",
    "demographic = pd.read_csv('storedemographicdata.csv')\n",
    "storeinfo = pd.read_csv('storeinformation.csv')\n",
    "storesales = pd.read_csv('storesalesdata.csv')"
   ]
  },
  {
   "cell_type": "markdown",
   "metadata": {},
   "source": [
    "<a id='Analysis'></a>\n",
    "## 4. Data Analysis"
   ]
  },
  {
   "cell_type": "markdown",
   "metadata": {},
   "source": [
    "> To improve the product surplus and shortages, different store formats are introduced. Individual store segments will have a different product selection in order to better match local demand. The actual building sizes will not change, just the product selection and internal layouts. The terms \"formats\" and \"segments\" will be used interchangeably throughout this project. \n",
    ">- **4.1. Determine Store Segments for Existing Stores** <br> The optimal number of store clusters is determined based on 2015 sales data. Percentage values of sales per category per store for clustering (category sales as a percentage of total store sales) are used.<br>\n",
    ">- **4.2. Cluster the Existing Stores** <br> Using a K-means clustering model, the 85 current stores are segmented into the different store clusters.\n",
    ">- **4.3. Classification Models Comparisons** <br> Using classification algorithms (decision tree, forest, and boosted model), I predict  the best store format for each of the 10 new stores. 20% of datapoints are hold out as a test dataset. \n",
    ">- **4.4. Forecasting (Part 3):** <br> Finally, I forecast a monthly produce category sale based on the full year of 2016 for both existing and new stores."
   ]
  },
  {
   "cell_type": "code",
   "execution_count": 3,
   "metadata": {},
   "outputs": [
    {
     "data": {
      "text/html": [
       "<div>\n",
       "<style scoped>\n",
       "    .dataframe tbody tr th:only-of-type {\n",
       "        vertical-align: middle;\n",
       "    }\n",
       "\n",
       "    .dataframe tbody tr th {\n",
       "        vertical-align: top;\n",
       "    }\n",
       "\n",
       "    .dataframe thead th {\n",
       "        text-align: right;\n",
       "    }\n",
       "</style>\n",
       "<table border=\"1\" class=\"dataframe\">\n",
       "  <thead>\n",
       "    <tr style=\"text-align: right;\">\n",
       "      <th></th>\n",
       "      <th>Dry_Grocery</th>\n",
       "      <th>Dairy</th>\n",
       "      <th>Frozen_Food</th>\n",
       "      <th>Meat</th>\n",
       "      <th>Produce</th>\n",
       "      <th>Floral</th>\n",
       "      <th>Deli</th>\n",
       "      <th>Bakery</th>\n",
       "      <th>General_Merchandise</th>\n",
       "    </tr>\n",
       "    <tr>\n",
       "      <th>Store</th>\n",
       "      <th></th>\n",
       "      <th></th>\n",
       "      <th></th>\n",
       "      <th></th>\n",
       "      <th></th>\n",
       "      <th></th>\n",
       "      <th></th>\n",
       "      <th></th>\n",
       "      <th></th>\n",
       "    </tr>\n",
       "  </thead>\n",
       "  <tbody>\n",
       "    <tr>\n",
       "      <th>S0001</th>\n",
       "      <td>0.461347</td>\n",
       "      <td>0.103084</td>\n",
       "      <td>0.077199</td>\n",
       "      <td>0.107677</td>\n",
       "      <td>0.097171</td>\n",
       "      <td>0.006769</td>\n",
       "      <td>0.043550</td>\n",
       "      <td>0.035544</td>\n",
       "      <td>0.067658</td>\n",
       "    </tr>\n",
       "    <tr>\n",
       "      <th>S0002</th>\n",
       "      <td>0.457528</td>\n",
       "      <td>0.106388</td>\n",
       "      <td>0.078841</td>\n",
       "      <td>0.114903</td>\n",
       "      <td>0.101259</td>\n",
       "      <td>0.007438</td>\n",
       "      <td>0.039792</td>\n",
       "      <td>0.029702</td>\n",
       "      <td>0.064149</td>\n",
       "    </tr>\n",
       "    <tr>\n",
       "      <th>S0003</th>\n",
       "      <td>0.421349</td>\n",
       "      <td>0.102356</td>\n",
       "      <td>0.069027</td>\n",
       "      <td>0.114713</td>\n",
       "      <td>0.125399</td>\n",
       "      <td>0.009631</td>\n",
       "      <td>0.041761</td>\n",
       "      <td>0.036108</td>\n",
       "      <td>0.079655</td>\n",
       "    </tr>\n",
       "    <tr>\n",
       "      <th>S0004</th>\n",
       "      <td>0.454560</td>\n",
       "      <td>0.097111</td>\n",
       "      <td>0.080277</td>\n",
       "      <td>0.127728</td>\n",
       "      <td>0.100409</td>\n",
       "      <td>0.006120</td>\n",
       "      <td>0.041785</td>\n",
       "      <td>0.034469</td>\n",
       "      <td>0.057542</td>\n",
       "    </tr>\n",
       "    <tr>\n",
       "      <th>S0005</th>\n",
       "      <td>0.440169</td>\n",
       "      <td>0.106268</td>\n",
       "      <td>0.086339</td>\n",
       "      <td>0.101863</td>\n",
       "      <td>0.131112</td>\n",
       "      <td>0.008877</td>\n",
       "      <td>0.035389</td>\n",
       "      <td>0.022607</td>\n",
       "      <td>0.067376</td>\n",
       "    </tr>\n",
       "    <tr>\n",
       "      <th>...</th>\n",
       "      <td>...</td>\n",
       "      <td>...</td>\n",
       "      <td>...</td>\n",
       "      <td>...</td>\n",
       "      <td>...</td>\n",
       "      <td>...</td>\n",
       "      <td>...</td>\n",
       "      <td>...</td>\n",
       "      <td>...</td>\n",
       "    </tr>\n",
       "    <tr>\n",
       "      <th>S0081</th>\n",
       "      <td>0.423280</td>\n",
       "      <td>0.102089</td>\n",
       "      <td>0.086592</td>\n",
       "      <td>0.123493</td>\n",
       "      <td>0.116666</td>\n",
       "      <td>0.008475</td>\n",
       "      <td>0.038956</td>\n",
       "      <td>0.042944</td>\n",
       "      <td>0.057506</td>\n",
       "    </tr>\n",
       "    <tr>\n",
       "      <th>S0082</th>\n",
       "      <td>0.460995</td>\n",
       "      <td>0.100760</td>\n",
       "      <td>0.075290</td>\n",
       "      <td>0.113610</td>\n",
       "      <td>0.101490</td>\n",
       "      <td>0.005269</td>\n",
       "      <td>0.048267</td>\n",
       "      <td>0.035212</td>\n",
       "      <td>0.059107</td>\n",
       "    </tr>\n",
       "    <tr>\n",
       "      <th>S0083</th>\n",
       "      <td>0.447873</td>\n",
       "      <td>0.108865</td>\n",
       "      <td>0.083793</td>\n",
       "      <td>0.109469</td>\n",
       "      <td>0.117443</td>\n",
       "      <td>0.007097</td>\n",
       "      <td>0.031885</td>\n",
       "      <td>0.025206</td>\n",
       "      <td>0.068370</td>\n",
       "    </tr>\n",
       "    <tr>\n",
       "      <th>S0084</th>\n",
       "      <td>0.460306</td>\n",
       "      <td>0.106343</td>\n",
       "      <td>0.094408</td>\n",
       "      <td>0.105936</td>\n",
       "      <td>0.100824</td>\n",
       "      <td>0.006377</td>\n",
       "      <td>0.040150</td>\n",
       "      <td>0.022119</td>\n",
       "      <td>0.063537</td>\n",
       "    </tr>\n",
       "    <tr>\n",
       "      <th>S0085</th>\n",
       "      <td>0.424240</td>\n",
       "      <td>0.112563</td>\n",
       "      <td>0.075257</td>\n",
       "      <td>0.115232</td>\n",
       "      <td>0.125251</td>\n",
       "      <td>0.010635</td>\n",
       "      <td>0.031300</td>\n",
       "      <td>0.036952</td>\n",
       "      <td>0.068570</td>\n",
       "    </tr>\n",
       "  </tbody>\n",
       "</table>\n",
       "<p>85 rows × 9 columns</p>\n",
       "</div>"
      ],
      "text/plain": [
       "       Dry_Grocery     Dairy  Frozen_Food      Meat   Produce    Floral  \\\n",
       "Store                                                                     \n",
       "S0001     0.461347  0.103084     0.077199  0.107677  0.097171  0.006769   \n",
       "S0002     0.457528  0.106388     0.078841  0.114903  0.101259  0.007438   \n",
       "S0003     0.421349  0.102356     0.069027  0.114713  0.125399  0.009631   \n",
       "S0004     0.454560  0.097111     0.080277  0.127728  0.100409  0.006120   \n",
       "S0005     0.440169  0.106268     0.086339  0.101863  0.131112  0.008877   \n",
       "...            ...       ...          ...       ...       ...       ...   \n",
       "S0081     0.423280  0.102089     0.086592  0.123493  0.116666  0.008475   \n",
       "S0082     0.460995  0.100760     0.075290  0.113610  0.101490  0.005269   \n",
       "S0083     0.447873  0.108865     0.083793  0.109469  0.117443  0.007097   \n",
       "S0084     0.460306  0.106343     0.094408  0.105936  0.100824  0.006377   \n",
       "S0085     0.424240  0.112563     0.075257  0.115232  0.125251  0.010635   \n",
       "\n",
       "           Deli    Bakery  General_Merchandise  \n",
       "Store                                           \n",
       "S0001  0.043550  0.035544             0.067658  \n",
       "S0002  0.039792  0.029702             0.064149  \n",
       "S0003  0.041761  0.036108             0.079655  \n",
       "S0004  0.041785  0.034469             0.057542  \n",
       "S0005  0.035389  0.022607             0.067376  \n",
       "...         ...       ...                  ...  \n",
       "S0081  0.038956  0.042944             0.057506  \n",
       "S0082  0.048267  0.035212             0.059107  \n",
       "S0083  0.031885  0.025206             0.068370  \n",
       "S0084  0.040150  0.022119             0.063537  \n",
       "S0085  0.031300  0.036952             0.068570  \n",
       "\n",
       "[85 rows x 9 columns]"
      ]
     },
     "execution_count": 3,
     "metadata": {},
     "output_type": "execute_result"
    }
   ],
   "source": [
    "#  Calculate the percentage of each category sales based on the storesales data. \n",
    "store_sales_2015 = storesales.query('Year == 2015').iloc[:, np.r_[0,  4:13]] \n",
    "cols = store_sales_2015.iloc[:, 1:].columns\n",
    "store_sales_2015_df = store_sales_2015.groupby('Store')[cols].sum()\n",
    "store_sales_2015_df['total_sales'] = store_sales_2015_df.sum(axis=1)\n",
    "pct_sales_per_category_2015 = store_sales_2015_df.div(store_sales_2015_df['total_sales'],axis =0)\n",
    "pct_sales_per_category_2015 = pct_sales_per_category_2015.iloc[:, :-1]\n",
    "pct_sales_per_category_2015"
   ]
  },
  {
   "cell_type": "markdown",
   "metadata": {},
   "source": [
    "### 4.1. K-Centroids Diagnostics "
   ]
  },
  {
   "cell_type": "markdown",
   "metadata": {},
   "source": [
    "> For a desirable cluster analysis, we should find the optimal number of clusters. I arrive at the optimal number, according to the following three criterion: \n",
    "> - 4.1.1. Elbow Method\n",
    "> - 4.1.2. Silhouette Coefficient\n",
    "> - 4.1.3. Adjusted Rand Indices(ARI) & Calinski-Harabasz Index(CHI) <br>\n",
    "\n",
    "> Remember that Clustering algorithms such as K-means are very sensitive to scale the variables. Therefore, feature scaling should be preceded before they are fed to the algorithms, because clustering techniques bascially use Euclidean Distance to form the cohorts. "
   ]
  },
  {
   "cell_type": "code",
   "execution_count": 4,
   "metadata": {
    "scrolled": false
   },
   "outputs": [],
   "source": [
    "# Import the relevant libraries\n",
    "from sklearn.cluster import KMeans\n",
    "from sklearn.preprocessing import StandardScaler\n",
    "\n",
    "# Scale the features before proceeding clustering analysis.\n",
    "scaler = StandardScaler()\n",
    "# Feature values (the proportion of each category) per store are scaled.\n",
    "pct_sales_scaled = scaler.fit_transform(pct_sales_per_category_2015.T).T "
   ]
  },
  {
   "cell_type": "markdown",
   "metadata": {},
   "source": [
    "### 4.1.1. Elbow Method "
   ]
  },
  {
   "cell_type": "code",
   "execution_count": 5,
   "metadata": {},
   "outputs": [
    {
     "data": {
      "image/png": "[encoded data removed]",
      "text/plain": [
       "<Figure size 648x288 with 1 Axes>"
      ]
     },
     "metadata": {},
     "output_type": "display_data"
    }
   ],
   "source": [
    "from kneed import KneeLocator\n",
    "kmeans_kwargs = { \"init\": \"k-means++\",  \"n_init\": 10,  \"max_iter\": 1000,  \"random_state\": 468 }\n",
    "\n",
    "# A list holds the SSE values for each k\n",
    "sse = {}\n",
    "for k in range(2, 9):\n",
    "    kmeans = KMeans(n_clusters=k, **kmeans_kwargs)\n",
    "    kmeans.fit(pct_sales_scaled)\n",
    "    sse[k] = kmeans.inertia_\n",
    "\n",
    "\n",
    "plt.figure(figsize=[9,4])\n",
    "plt.plot(list(sse.keys()), list(sse.values()))\n",
    "plt.xlabel(\"Number of cluster\", fontsize = 13)\n",
    "plt.ylabel(\"SSE\", fontsize = 13)\n",
    "plt.show()"
   ]
  },
  {
   "cell_type": "code",
   "execution_count": 6,
   "metadata": {},
   "outputs": [
    {
     "name": "stdout",
     "output_type": "stream",
     "text": [
      "The optimal number of clusters, suggested by Elbow criterion:  3\n"
     ]
    }
   ],
   "source": [
    "from kneed import KneeLocator\n",
    "x, y = list(sse.keys()), list(sse.values())\n",
    "kn = KneeLocator(x, y, curve='convex', direction='decreasing')\n",
    "print('The optimal number of clusters, suggested by Elbow criterion: ', kn.knee)"
   ]
  },
  {
   "cell_type": "markdown",
   "metadata": {},
   "source": [
    "### 4.1.2. Silhouette Coefficient\n",
    "\n",
    ">- The silhouette coefficient is a measure of cluster cohesion and separation. It tells how well a data point fits into its assigned cluster based on two factors:\n",
    "    > 1. Within-Cluster Distance  (i.e. How close the data point is to other points in the cluster)\n",
    "    > 2. Between-Clusters Distance (i.e. How far away the data point is from points in other clusters)\n",
    ">- Silhouette coefficient values range between -1 and 1. Larger numbers mean that samples are closer to their clusters than they are to other clusters. \n",
    ">- The function \"silhouette_score\" from scikit-learn returns the average silhouette coefficient of all the samples is summarized into one score. The silhouette score() function requires at least two clusters. For this report, I compare the silhouette coefficients of different number of clusters using for-loop. "
   ]
  },
  {
   "cell_type": "code",
   "execution_count": 7,
   "metadata": {},
   "outputs": [],
   "source": [
    "from sklearn.metrics import silhouette_score\n",
    "# A list holds the silhouette coefficients for each k\n",
    "silhouette_coefficients = []\n",
    "\n",
    "# Notice you start at 2 clusters for silhouette coefficient\n",
    "for k in range(2, 9):\n",
    "    kmeans = KMeans(n_clusters=k, **kmeans_kwargs)\n",
    "    kmeans.fit(pct_sales_scaled)\n",
    "    score = silhouette_score(pct_sales_scaled, kmeans.labels_) \n",
    "    silhouette_coefficients.append(score)"
   ]
  },
  {
   "cell_type": "code",
   "execution_count": 8,
   "metadata": {
    "scrolled": true
   },
   "outputs": [
    {
     "data": {
      "image/png": "[encoded data removed]",
      "text/plain": [
       "<Figure size 648x288 with 1 Axes>"
      ]
     },
     "metadata": {},
     "output_type": "display_data"
    }
   ],
   "source": [
    "plt.figure(figsize=[9,4])\n",
    "plt.plot(range(2, 9), silhouette_coefficients)\n",
    "plt.xticks(range(2, 9))\n",
    "plt.xlabel(\"Number of Clusters\", fontsize = 13)\n",
    "plt.ylabel(\"Silhouette Coefficient\", fontsize = 13)\n",
    "plt.show()"
   ]
  },
  {
   "cell_type": "markdown",
   "metadata": {},
   "source": [
    "> **Findings:** The optimal number of clusters, suggested by Silhouette Coefficient is 4. Since the Silhouette Coefficient for 3 clusters are very close to the coefficent for 4 clusters, we can think that 3 clusters are the second most optimal number of clusters. "
   ]
  },
  {
   "cell_type": "markdown",
   "metadata": {},
   "source": [
    "### 4.1.3. Adjusted Rand Indices(ARI) & Calinski-Harabasz Index(CHI)\n",
    "\n",
    "In Alteryx. the appropriate number of clusters is diagnosed based on Adjusted Rand Indices(ARI) and Calinski-Harabasz Index(CHI). The optimal number of clusters based on the calculations of two different statistics over bootstrap replicate samples of the original data for a range of clustering solution that differ in the number of clusters specified.\n",
    "\n",
    "This approach is based on the idea that if the datapoints truly classified into a set of stable clusters, then a set of different random samples of the datapoints should result in approximately the set of clusters across the bootstrap replicates, except for small differences that are due to both random sample variability and to the randomness induced by the method used to generate the starting set of centroids, via selecting K points at random, in the general K-Centroids algorithm. The two measures examined are the adjusted Rand index and the Calinski–Harabasz index (also known as the variance ratio criteria and the pseudo-F statistic).\n",
    "\n",
    "This can be a very computationally intensive process, depending on the number of records used in the calculation, the number of different clustering solutions examined (determined by range between the designated minimum and maximum number of clusters), the number of bootstrap replicates, and the number of different starting seeds used for each cluster solution (the number of starting seed is set to 10 seeds in this analysis). \n",
    "\n",
    "Reducing the number of bootstrap replicates to use greatly reduced the amount of computer time needed. However, it can also bring a large cost of precision. Alteryx recommends to use at least 100 replicates if possible. Thus, I used 100 bootstrap replicates for the actual analysis. [Reference](https://help.alteryx.com/current/designer/k-centroids-diagnostics-tool)"
   ]
  },
  {
   "cell_type": "code",
   "execution_count": 9,
   "metadata": {},
   "outputs": [],
   "source": [
    "# Import the relevant libraries \n",
    "from sklearn.metrics.cluster import adjusted_rand_score, calinski_harabasz_score"
   ]
  },
  {
   "cell_type": "markdown",
   "metadata": {},
   "source": [
    "### Adjusted Rand Indices(ARI)\n",
    "\n",
    "The Adjusted Rand index provides a measure of similarity between two different clustering solutions. The AR-index takes a maximum value of one, when the two clustering solutions perfectly overlap. For this analysis the index is used to determine both the relative and absolute reproducibility of a clustering solution by comparing pairs of solutions, where each pair is based on a different sample of customer data. The greater the overlap between pairs of solutions implies the greater the reproducibility of the cluster structure. [Wiki Reference](https://en.wikipedia.org/wiki/Rand_index#Adjusted_Rand_index)"
   ]
  },
  {
   "cell_type": "code",
   "execution_count": 10,
   "metadata": {},
   "outputs": [],
   "source": [
    "cluster_ari_all=[]\n",
    "\n",
    "for k in range(2,9): # Compare 2 - 8 Clusters solutions \n",
    "    kmeans = KMeans(n_clusters=k, **kmeans_kwargs)\n",
    "    kmeans_btsp = KMeans(n_clusters=k, init = 'random', n_init=10, algorithm= 'elkan', random_state=3)\n",
    "    existing_stores= pct_sales_per_category_2015.index\n",
    "    cluster_ari = []\n",
    "    \n",
    "    for _ in range(100):  # Bootstrapping with 100 replicates \n",
    "        \n",
    "        btsp_rnd = np.random.choice(existing_stores, 85)      \n",
    "        btsp_rnd_df = pct_sales_per_category_2015.loc[btsp_rnd]\n",
    "        btsp_rnd_scaled = scaler.fit_transform(btsp_rnd_df)\n",
    "        \n",
    "        btsp_rnd_fitted = kmeans_btsp.fit(btsp_rnd_scaled)\n",
    "        rnd_label = btsp_rnd_fitted.labels_\n",
    "\n",
    "        original_fitted= kmeans.fit(btsp_rnd_scaled)\n",
    "        true_algo_labels = original_fitted.labels_\n",
    "    \n",
    "        ari = adjusted_rand_score(true_algo_labels, rnd_label)\n",
    "        cluster_ari.append(ari)\n",
    "    cluster_ari_all.append(cluster_ari)    "
   ]
  },
  {
   "cell_type": "code",
   "execution_count": 11,
   "metadata": {},
   "outputs": [],
   "source": [
    "cluster_ari_all = pd.DataFrame(cluster_ari_all, \n",
    "                               index =['cluster2', 'cluster3','cluster4', 'cluster5', 'cluster6', 'cluster7', 'cluster8'])\n",
    "cluster_ari_all = cluster_ari_all.T"
   ]
  },
  {
   "cell_type": "code",
   "execution_count": 12,
   "metadata": {},
   "outputs": [
    {
     "data": {
      "text/html": [
       "<div>\n",
       "<style scoped>\n",
       "    .dataframe tbody tr th:only-of-type {\n",
       "        vertical-align: middle;\n",
       "    }\n",
       "\n",
       "    .dataframe tbody tr th {\n",
       "        vertical-align: top;\n",
       "    }\n",
       "\n",
       "    .dataframe thead th {\n",
       "        text-align: right;\n",
       "    }\n",
       "</style>\n",
       "<table border=\"1\" class=\"dataframe\">\n",
       "  <thead>\n",
       "    <tr style=\"text-align: right;\">\n",
       "      <th></th>\n",
       "      <th>cluster2</th>\n",
       "      <th>cluster3</th>\n",
       "      <th>cluster4</th>\n",
       "      <th>cluster5</th>\n",
       "      <th>cluster6</th>\n",
       "      <th>cluster7</th>\n",
       "      <th>cluster8</th>\n",
       "    </tr>\n",
       "  </thead>\n",
       "  <tbody>\n",
       "    <tr>\n",
       "      <th>count</th>\n",
       "      <td>100.000000</td>\n",
       "      <td>100.000000</td>\n",
       "      <td>100.000000</td>\n",
       "      <td>100.000000</td>\n",
       "      <td>100.000000</td>\n",
       "      <td>100.000000</td>\n",
       "      <td>100.000000</td>\n",
       "    </tr>\n",
       "    <tr>\n",
       "      <th>mean</th>\n",
       "      <td>0.917719</td>\n",
       "      <td>0.748498</td>\n",
       "      <td>0.681890</td>\n",
       "      <td>0.624232</td>\n",
       "      <td>0.611453</td>\n",
       "      <td>0.575823</td>\n",
       "      <td>0.581418</td>\n",
       "    </tr>\n",
       "    <tr>\n",
       "      <th>std</th>\n",
       "      <td>0.156733</td>\n",
       "      <td>0.214858</td>\n",
       "      <td>0.193652</td>\n",
       "      <td>0.161667</td>\n",
       "      <td>0.137459</td>\n",
       "      <td>0.133815</td>\n",
       "      <td>0.121038</td>\n",
       "    </tr>\n",
       "    <tr>\n",
       "      <th>min</th>\n",
       "      <td>0.050168</td>\n",
       "      <td>0.188360</td>\n",
       "      <td>0.228919</td>\n",
       "      <td>0.304118</td>\n",
       "      <td>0.320311</td>\n",
       "      <td>0.243398</td>\n",
       "      <td>0.289484</td>\n",
       "    </tr>\n",
       "    <tr>\n",
       "      <th>25%</th>\n",
       "      <td>0.906976</td>\n",
       "      <td>0.620260</td>\n",
       "      <td>0.539148</td>\n",
       "      <td>0.509054</td>\n",
       "      <td>0.514072</td>\n",
       "      <td>0.484472</td>\n",
       "      <td>0.515321</td>\n",
       "    </tr>\n",
       "    <tr>\n",
       "      <th>50%</th>\n",
       "      <td>1.000000</td>\n",
       "      <td>0.808880</td>\n",
       "      <td>0.703534</td>\n",
       "      <td>0.610234</td>\n",
       "      <td>0.613807</td>\n",
       "      <td>0.570425</td>\n",
       "      <td>0.588763</td>\n",
       "    </tr>\n",
       "    <tr>\n",
       "      <th>75%</th>\n",
       "      <td>1.000000</td>\n",
       "      <td>0.922869</td>\n",
       "      <td>0.834020</td>\n",
       "      <td>0.756051</td>\n",
       "      <td>0.709976</td>\n",
       "      <td>0.673203</td>\n",
       "      <td>0.651643</td>\n",
       "    </tr>\n",
       "    <tr>\n",
       "      <th>max</th>\n",
       "      <td>1.000000</td>\n",
       "      <td>1.000000</td>\n",
       "      <td>1.000000</td>\n",
       "      <td>1.000000</td>\n",
       "      <td>0.941042</td>\n",
       "      <td>0.853073</td>\n",
       "      <td>0.835399</td>\n",
       "    </tr>\n",
       "  </tbody>\n",
       "</table>\n",
       "</div>"
      ],
      "text/plain": [
       "         cluster2    cluster3    cluster4    cluster5    cluster6    cluster7  \\\n",
       "count  100.000000  100.000000  100.000000  100.000000  100.000000  100.000000   \n",
       "mean     0.917719    0.748498    0.681890    0.624232    0.611453    0.575823   \n",
       "std      0.156733    0.214858    0.193652    0.161667    0.137459    0.133815   \n",
       "min      0.050168    0.188360    0.228919    0.304118    0.320311    0.243398   \n",
       "25%      0.906976    0.620260    0.539148    0.509054    0.514072    0.484472   \n",
       "50%      1.000000    0.808880    0.703534    0.610234    0.613807    0.570425   \n",
       "75%      1.000000    0.922869    0.834020    0.756051    0.709976    0.673203   \n",
       "max      1.000000    1.000000    1.000000    1.000000    0.941042    0.853073   \n",
       "\n",
       "         cluster8  \n",
       "count  100.000000  \n",
       "mean     0.581418  \n",
       "std      0.121038  \n",
       "min      0.289484  \n",
       "25%      0.515321  \n",
       "50%      0.588763  \n",
       "75%      0.651643  \n",
       "max      0.835399  "
      ]
     },
     "execution_count": 12,
     "metadata": {},
     "output_type": "execute_result"
    }
   ],
   "source": [
    "cluster_ari_all.describe()"
   ]
  },
  {
   "cell_type": "code",
   "execution_count": 13,
   "metadata": {},
   "outputs": [
    {
     "data": {
      "text/plain": [
       "Text(0.5, 1.0, 'Adjusted Rand Indices')"
      ]
     },
     "execution_count": 13,
     "metadata": {},
     "output_type": "execute_result"
    },
    {
     "data": {
      "image/png": "[encoded data removed]",
      "text/plain": [
       "<Figure size 576x288 with 1 Axes>"
      ]
     },
     "metadata": {},
     "output_type": "display_data"
    }
   ],
   "source": [
    "cluster_ari_all.boxplot(figsize = (8,4))\n",
    "plt.ylabel('Adjusted Rand')\n",
    "plt.xlabel('Number of Clusters')\n",
    "plt.title('Adjusted Rand Indices', fontsize = 16)"
   ]
  },
  {
   "cell_type": "markdown",
   "metadata": {},
   "source": [
    "### Calinski-Harabasz Index(CHI)\n",
    "\n",
    "The Calinski–Harabasz index is based on comparing the weighted ratio of the between cluster sum of squares (the measure of cluster separation) and the within cluster sum of squares (the measure of how tightly packed the points are within a cluster). Ideally, the clusters should be well separated, so that the between cluster sum of squares value should be large, but points within a cluster should be as close as possible to one another, resulting in smaller values of the within cluster sum of squares measure. Since the Calinski–Harabasz index is a ratio, with the between cluster sum of squares in the numerator and the within cluster sum of squares in the denominator, cluster solutions with larger values of the index correspond to “better” solutions than cluster solutions with smaller values. [Alteryx- Reference](https://help.alteryx.com/current/designer/k-centroids-diagnostics-tool)"
   ]
  },
  {
   "cell_type": "code",
   "execution_count": 14,
   "metadata": {},
   "outputs": [],
   "source": [
    "cluster_chi_all=[]\n",
    "\n",
    "for k in range(2,9):\n",
    "    kmeans = KMeans(n_clusters=k, **kmeans_kwargs)\n",
    "    kmeans_btsp = KMeans(n_clusters=k, init = 'random', n_init=10, algorithm = 'elkan')\n",
    "    existing_stores= pct_sales_per_category_2015.index\n",
    "    cluster_chi = []\n",
    "    for _ in range(100): \n",
    "        btsp_rnd = np.random.choice(existing_stores, 85)\n",
    "        btsp_rnd_df = pct_sales_per_category_2015.loc[btsp_rnd]\n",
    "        btsp_rnd_scaled = scaler.fit_transform(btsp_rnd_df)\n",
    "\n",
    "        btsp_rnd_fitted = kmeans_btsp.fit(btsp_rnd_scaled)\n",
    "        rnd_label = btsp_rnd_fitted.labels_\n",
    "\n",
    "        chi = calinski_harabasz_score(btsp_rnd_scaled,rnd_label)\n",
    "        cluster_chi.append(chi)\n",
    "    cluster_chi_all.append(cluster_chi)"
   ]
  },
  {
   "cell_type": "code",
   "execution_count": 15,
   "metadata": {
    "scrolled": true
   },
   "outputs": [],
   "source": [
    "cluster_chi_all = pd.DataFrame(cluster_chi_all, \n",
    "                               index =['cluster2', 'cluster3','cluster4', 'cluster5', 'cluster6', 'cluster7', 'cluster8'])\n",
    "cluster_chi_all = cluster_chi_all.T"
   ]
  },
  {
   "cell_type": "code",
   "execution_count": 16,
   "metadata": {},
   "outputs": [
    {
     "data": {
      "text/html": [
       "<div>\n",
       "<style scoped>\n",
       "    .dataframe tbody tr th:only-of-type {\n",
       "        vertical-align: middle;\n",
       "    }\n",
       "\n",
       "    .dataframe tbody tr th {\n",
       "        vertical-align: top;\n",
       "    }\n",
       "\n",
       "    .dataframe thead th {\n",
       "        text-align: right;\n",
       "    }\n",
       "</style>\n",
       "<table border=\"1\" class=\"dataframe\">\n",
       "  <thead>\n",
       "    <tr style=\"text-align: right;\">\n",
       "      <th></th>\n",
       "      <th>cluster2</th>\n",
       "      <th>cluster3</th>\n",
       "      <th>cluster4</th>\n",
       "      <th>cluster5</th>\n",
       "      <th>cluster6</th>\n",
       "      <th>cluster7</th>\n",
       "      <th>cluster8</th>\n",
       "    </tr>\n",
       "  </thead>\n",
       "  <tbody>\n",
       "    <tr>\n",
       "      <th>count</th>\n",
       "      <td>100.000000</td>\n",
       "      <td>100.000000</td>\n",
       "      <td>100.000000</td>\n",
       "      <td>100.000000</td>\n",
       "      <td>100.000000</td>\n",
       "      <td>100.000000</td>\n",
       "      <td>100.000000</td>\n",
       "    </tr>\n",
       "    <tr>\n",
       "      <th>mean</th>\n",
       "      <td>25.111713</td>\n",
       "      <td>22.517965</td>\n",
       "      <td>20.995403</td>\n",
       "      <td>19.877663</td>\n",
       "      <td>19.800934</td>\n",
       "      <td>19.058298</td>\n",
       "      <td>18.955674</td>\n",
       "    </tr>\n",
       "    <tr>\n",
       "      <th>std</th>\n",
       "      <td>2.973955</td>\n",
       "      <td>2.103197</td>\n",
       "      <td>1.926888</td>\n",
       "      <td>1.918141</td>\n",
       "      <td>1.935923</td>\n",
       "      <td>2.002820</td>\n",
       "      <td>2.239280</td>\n",
       "    </tr>\n",
       "    <tr>\n",
       "      <th>min</th>\n",
       "      <td>16.945949</td>\n",
       "      <td>17.812153</td>\n",
       "      <td>17.761768</td>\n",
       "      <td>15.891173</td>\n",
       "      <td>16.050354</td>\n",
       "      <td>15.099547</td>\n",
       "      <td>13.816299</td>\n",
       "    </tr>\n",
       "    <tr>\n",
       "      <th>25%</th>\n",
       "      <td>23.036936</td>\n",
       "      <td>20.978217</td>\n",
       "      <td>19.642789</td>\n",
       "      <td>18.458781</td>\n",
       "      <td>18.378778</td>\n",
       "      <td>17.629112</td>\n",
       "      <td>17.490388</td>\n",
       "    </tr>\n",
       "    <tr>\n",
       "      <th>50%</th>\n",
       "      <td>24.678782</td>\n",
       "      <td>22.430473</td>\n",
       "      <td>20.938414</td>\n",
       "      <td>19.947174</td>\n",
       "      <td>19.783325</td>\n",
       "      <td>19.074290</td>\n",
       "      <td>18.812167</td>\n",
       "    </tr>\n",
       "    <tr>\n",
       "      <th>75%</th>\n",
       "      <td>26.918283</td>\n",
       "      <td>23.961390</td>\n",
       "      <td>21.995276</td>\n",
       "      <td>21.013596</td>\n",
       "      <td>20.940812</td>\n",
       "      <td>20.072251</td>\n",
       "      <td>19.936843</td>\n",
       "    </tr>\n",
       "    <tr>\n",
       "      <th>max</th>\n",
       "      <td>33.679226</td>\n",
       "      <td>27.360442</td>\n",
       "      <td>29.200094</td>\n",
       "      <td>27.175647</td>\n",
       "      <td>25.013302</td>\n",
       "      <td>25.123402</td>\n",
       "      <td>30.618711</td>\n",
       "    </tr>\n",
       "  </tbody>\n",
       "</table>\n",
       "</div>"
      ],
      "text/plain": [
       "         cluster2    cluster3    cluster4    cluster5    cluster6    cluster7  \\\n",
       "count  100.000000  100.000000  100.000000  100.000000  100.000000  100.000000   \n",
       "mean    25.111713   22.517965   20.995403   19.877663   19.800934   19.058298   \n",
       "std      2.973955    2.103197    1.926888    1.918141    1.935923    2.002820   \n",
       "min     16.945949   17.812153   17.761768   15.891173   16.050354   15.099547   \n",
       "25%     23.036936   20.978217   19.642789   18.458781   18.378778   17.629112   \n",
       "50%     24.678782   22.430473   20.938414   19.947174   19.783325   19.074290   \n",
       "75%     26.918283   23.961390   21.995276   21.013596   20.940812   20.072251   \n",
       "max     33.679226   27.360442   29.200094   27.175647   25.013302   25.123402   \n",
       "\n",
       "         cluster8  \n",
       "count  100.000000  \n",
       "mean    18.955674  \n",
       "std      2.239280  \n",
       "min     13.816299  \n",
       "25%     17.490388  \n",
       "50%     18.812167  \n",
       "75%     19.936843  \n",
       "max     30.618711  "
      ]
     },
     "execution_count": 16,
     "metadata": {},
     "output_type": "execute_result"
    }
   ],
   "source": [
    "cluster_chi_all.describe()"
   ]
  },
  {
   "cell_type": "code",
   "execution_count": 17,
   "metadata": {
    "scrolled": false
   },
   "outputs": [
    {
     "data": {
      "text/plain": [
       "Text(0.5, 1.0, 'Calinski-Harabasz Indices (CH index)')"
      ]
     },
     "execution_count": 17,
     "metadata": {},
     "output_type": "execute_result"
    },
    {
     "data": {
      "image/png": "[encoded data removed]",
      "text/plain": [
       "<Figure size 576x288 with 1 Axes>"
      ]
     },
     "metadata": {},
     "output_type": "display_data"
    }
   ],
   "source": [
    "cluster_chi_all.boxplot(figsize = (8,4))\n",
    "plt.ylabel('Calinski-Harabasz')\n",
    "plt.xlabel('Number of Clusters')\n",
    "plt.title('Calinski-Harabasz Indices (CH index)', fontsize = 16)"
   ]
  },
  {
   "cell_type": "markdown",
   "metadata": {},
   "source": [
    "> The output plots show the information about the distribution of the two statistics for differing numbers of clusters across the bootstrap replicates. The information is presented via two box and whisker plots (one each for the adjusted Rand index and the Calinski-Harabasz index) and summary statistics for the two indices. The preferred number of clusters based on each measure corresponds to one with the highest mean and median of the solutions compared. Additionally , it is desirable that dispersion in the calculated statistics across the bootstrap replicates not be too large. [Alteryx- Reference](https://help.alteryx.com/current/designer/k-centroids-diagnostics-tool)\n",
    "\n",
    "> **Findings:** According to the summary statistics and the box plots for both measures, two clusters are the most appropriate and the three clusters solution is the second best option. According to the Rand Index and CH Index, the mean and median values under two- and three-cluster solutions are higher than other cluster solutions. Considering all the previous suggestions from Elbow Method and Silhouette Coefficient, I decided to use three clusters in this analysis. "
   ]
  },
  {
   "cell_type": "markdown",
   "metadata": {},
   "source": [
    "### 4.2. K-Centroids  Clustering Analysis\n",
    "\n",
    "### 4.2.1. Cluster the Existing Stores\n",
    "\n",
    "> So far, I have concluded that the optimal number of clusters for this analysis three. In this section, using the selected number of clusters. I group the 85 existing stores into three clusters. "
   ]
  },
  {
   "cell_type": "code",
   "execution_count": 18,
   "metadata": {},
   "outputs": [],
   "source": [
    "# Define the cluster algorithm \n",
    "kmeans_threeclusters = KMeans(init=\"k-means++\", n_clusters=3,  n_init=10, max_iter=1000, random_state = 468)\n",
    "# Unlike the previous standardisation, I scaled the feature values per category. \n",
    "pct_sales_per_ctg_scaled = scaler.fit_transform(pct_sales_per_category_2015)"
   ]
  },
  {
   "cell_type": "code",
   "execution_count": 19,
   "metadata": {},
   "outputs": [
    {
     "data": {
      "text/plain": [
       "514.0107416154974"
      ]
     },
     "execution_count": 19,
     "metadata": {},
     "output_type": "execute_result"
    }
   ],
   "source": [
    "pct_sales_fitted = kmeans_threeclusters.fit(pct_sales_per_ctg_scaled)\n",
    "pct_sales_fitted.inertia_ # Sum of squared distances of samples to their closest cluster center."
   ]
  },
  {
   "cell_type": "code",
   "execution_count": 20,
   "metadata": {
    "scrolled": true
   },
   "outputs": [
    {
     "data": {
      "text/plain": [
       "array([[ 0.32977822, -0.76553245, -0.39151866, -0.08668726, -0.51220691,\n",
       "        -0.30331307, -0.23396997, -0.89956863,  1.21568783],\n",
       "       [-0.73506893,  0.70677913,  0.34795085, -0.48868677,  1.02052807,\n",
       "         0.85677311, -0.55793247,  0.39927883, -0.30667177],\n",
       "       [ 0.41612424, -0.08755601, -0.03289835,  0.4898704 , -0.539835  ,\n",
       "        -0.54152181,  0.65337427,  0.27609068, -0.57779814]])"
      ]
     },
     "execution_count": 20,
     "metadata": {},
     "output_type": "execute_result"
    }
   ],
   "source": [
    "# Coordinates of cluster centers. \n",
    "kmeans_threeclusters.cluster_centers_"
   ]
  },
  {
   "cell_type": "code",
   "execution_count": 21,
   "metadata": {},
   "outputs": [
    {
     "data": {
      "text/plain": [
       "array([2, 2, 1, 2, 1, 2, 2, 1, 2, 1, 2, 0, 0, 0, 0, 2, 1, 2, 0, 2, 1, 2,\n",
       "       1, 2, 2, 1, 1, 2, 0, 2, 0, 0, 2, 1, 2, 0, 0, 2, 2, 0, 2, 2, 1, 2,\n",
       "       0, 1, 0, 0, 1, 1, 1, 1, 2, 2, 0, 1, 2, 2, 0, 2, 2, 0, 1, 1, 1, 0,\n",
       "       2, 1, 1, 0, 0, 0, 1, 2, 2, 1, 1, 1, 0, 0, 1, 2, 1, 2, 1])"
      ]
     },
     "execution_count": 21,
     "metadata": {},
     "output_type": "execute_result"
    }
   ],
   "source": [
    "# Cluster labels of each datapoint\n",
    "pct_sales_fitted.labels_  "
   ]
  },
  {
   "cell_type": "code",
   "execution_count": 22,
   "metadata": {
    "scrolled": true
   },
   "outputs": [
    {
     "data": {
      "text/plain": [
       "C    33\n",
       "B    29\n",
       "A    23\n",
       "Name: cluster, dtype: int64"
      ]
     },
     "execution_count": 22,
     "metadata": {},
     "output_type": "execute_result"
    }
   ],
   "source": [
    "# The number of stores fall into each store cluster. \n",
    "store_cluster_no = pd.DataFrame(pct_sales_fitted.labels_, columns = ['cluster'],index =pct_sales_per_category_2015.index )\n",
    "store_cluster_no['cluster'].replace({0: \"A\", 1: \"B\", 2: \"C\"}, inplace=True)\n",
    "store_cluster_no.cluster.value_counts()\n",
    "# The results can be varied, depending on the random_state setting."
   ]
  },
  {
   "cell_type": "markdown",
   "metadata": {},
   "source": [
    "> **Findings:** Percentage sales per category per store are used for clustering. Stores are quite evenly\n",
    "assigned to each format. 23, 29, 33 stores fall into each store cluster. Then I merged the labels with 2015 sales dataframe, to compare between the three clusters. To avoid confusion, I replace the numeric labels (0.1.2) with alphabetical labels (A, B, C), respectively. "
   ]
  },
  {
   "cell_type": "code",
   "execution_count": 23,
   "metadata": {},
   "outputs": [],
   "source": [
    "# Merge the store cluster number dataframe(store_cluster_no) with percentage of each product category dataframe. \n",
    "pct_per_category_cluster = pct_sales_per_category_2015.merge(store_cluster_no, how = 'inner', \n",
    "                                left_on = pct_sales_per_category_2015.index,\n",
    "                                 right_on = store_cluster_no.index, right_index=True ).iloc[:, 1:]"
   ]
  },
  {
   "cell_type": "code",
   "execution_count": 24,
   "metadata": {},
   "outputs": [
    {
     "data": {
      "text/html": [
       "<div>\n",
       "<style scoped>\n",
       "    .dataframe tbody tr th:only-of-type {\n",
       "        vertical-align: middle;\n",
       "    }\n",
       "\n",
       "    .dataframe tbody tr th {\n",
       "        vertical-align: top;\n",
       "    }\n",
       "\n",
       "    .dataframe thead th {\n",
       "        text-align: right;\n",
       "    }\n",
       "</style>\n",
       "<table border=\"1\" class=\"dataframe\">\n",
       "  <thead>\n",
       "    <tr style=\"text-align: right;\">\n",
       "      <th></th>\n",
       "      <th>Dry_Grocery</th>\n",
       "      <th>Dairy</th>\n",
       "      <th>Frozen_Food</th>\n",
       "      <th>Meat</th>\n",
       "      <th>Produce</th>\n",
       "      <th>Floral</th>\n",
       "      <th>Deli</th>\n",
       "      <th>Bakery</th>\n",
       "      <th>General_Merchandise</th>\n",
       "      <th>cluster</th>\n",
       "    </tr>\n",
       "    <tr>\n",
       "      <th>Store</th>\n",
       "      <th></th>\n",
       "      <th></th>\n",
       "      <th></th>\n",
       "      <th></th>\n",
       "      <th></th>\n",
       "      <th></th>\n",
       "      <th></th>\n",
       "      <th></th>\n",
       "      <th></th>\n",
       "      <th></th>\n",
       "    </tr>\n",
       "  </thead>\n",
       "  <tbody>\n",
       "    <tr>\n",
       "      <th>S0001</th>\n",
       "      <td>0.461347</td>\n",
       "      <td>0.103084</td>\n",
       "      <td>0.077199</td>\n",
       "      <td>0.107677</td>\n",
       "      <td>0.097171</td>\n",
       "      <td>0.006769</td>\n",
       "      <td>0.043550</td>\n",
       "      <td>0.035544</td>\n",
       "      <td>0.067658</td>\n",
       "      <td>C</td>\n",
       "    </tr>\n",
       "    <tr>\n",
       "      <th>S0002</th>\n",
       "      <td>0.457528</td>\n",
       "      <td>0.106388</td>\n",
       "      <td>0.078841</td>\n",
       "      <td>0.114903</td>\n",
       "      <td>0.101259</td>\n",
       "      <td>0.007438</td>\n",
       "      <td>0.039792</td>\n",
       "      <td>0.029702</td>\n",
       "      <td>0.064149</td>\n",
       "      <td>C</td>\n",
       "    </tr>\n",
       "    <tr>\n",
       "      <th>S0003</th>\n",
       "      <td>0.421349</td>\n",
       "      <td>0.102356</td>\n",
       "      <td>0.069027</td>\n",
       "      <td>0.114713</td>\n",
       "      <td>0.125399</td>\n",
       "      <td>0.009631</td>\n",
       "      <td>0.041761</td>\n",
       "      <td>0.036108</td>\n",
       "      <td>0.079655</td>\n",
       "      <td>B</td>\n",
       "    </tr>\n",
       "    <tr>\n",
       "      <th>S0004</th>\n",
       "      <td>0.454560</td>\n",
       "      <td>0.097111</td>\n",
       "      <td>0.080277</td>\n",
       "      <td>0.127728</td>\n",
       "      <td>0.100409</td>\n",
       "      <td>0.006120</td>\n",
       "      <td>0.041785</td>\n",
       "      <td>0.034469</td>\n",
       "      <td>0.057542</td>\n",
       "      <td>C</td>\n",
       "    </tr>\n",
       "    <tr>\n",
       "      <th>S0005</th>\n",
       "      <td>0.440169</td>\n",
       "      <td>0.106268</td>\n",
       "      <td>0.086339</td>\n",
       "      <td>0.101863</td>\n",
       "      <td>0.131112</td>\n",
       "      <td>0.008877</td>\n",
       "      <td>0.035389</td>\n",
       "      <td>0.022607</td>\n",
       "      <td>0.067376</td>\n",
       "      <td>B</td>\n",
       "    </tr>\n",
       "  </tbody>\n",
       "</table>\n",
       "</div>"
      ],
      "text/plain": [
       "       Dry_Grocery     Dairy  Frozen_Food      Meat   Produce    Floral  \\\n",
       "Store                                                                     \n",
       "S0001     0.461347  0.103084     0.077199  0.107677  0.097171  0.006769   \n",
       "S0002     0.457528  0.106388     0.078841  0.114903  0.101259  0.007438   \n",
       "S0003     0.421349  0.102356     0.069027  0.114713  0.125399  0.009631   \n",
       "S0004     0.454560  0.097111     0.080277  0.127728  0.100409  0.006120   \n",
       "S0005     0.440169  0.106268     0.086339  0.101863  0.131112  0.008877   \n",
       "\n",
       "           Deli    Bakery  General_Merchandise cluster  \n",
       "Store                                                   \n",
       "S0001  0.043550  0.035544             0.067658       C  \n",
       "S0002  0.039792  0.029702             0.064149       C  \n",
       "S0003  0.041761  0.036108             0.079655       B  \n",
       "S0004  0.041785  0.034469             0.057542       C  \n",
       "S0005  0.035389  0.022607             0.067376       B  "
      ]
     },
     "execution_count": 24,
     "metadata": {},
     "output_type": "execute_result"
    }
   ],
   "source": [
    "# Percentage of each product category and cluster\n",
    "pct_per_category_cluster.head()"
   ]
  },
  {
   "cell_type": "code",
   "execution_count": 25,
   "metadata": {
    "scrolled": false
   },
   "outputs": [
    {
     "data": {
      "text/html": [
       "<div>\n",
       "<style scoped>\n",
       "    .dataframe tbody tr th:only-of-type {\n",
       "        vertical-align: middle;\n",
       "    }\n",
       "\n",
       "    .dataframe tbody tr th {\n",
       "        vertical-align: top;\n",
       "    }\n",
       "\n",
       "    .dataframe thead th {\n",
       "        text-align: right;\n",
       "    }\n",
       "</style>\n",
       "<table border=\"1\" class=\"dataframe\">\n",
       "  <thead>\n",
       "    <tr style=\"text-align: right;\">\n",
       "      <th></th>\n",
       "      <th>Dry_Grocery</th>\n",
       "      <th>Dairy</th>\n",
       "      <th>Frozen_Food</th>\n",
       "      <th>Meat</th>\n",
       "      <th>Produce</th>\n",
       "      <th>Floral</th>\n",
       "      <th>Deli</th>\n",
       "      <th>Bakery</th>\n",
       "      <th>General_Merchandise</th>\n",
       "      <th>cluster</th>\n",
       "    </tr>\n",
       "    <tr>\n",
       "      <th>Store</th>\n",
       "      <th></th>\n",
       "      <th></th>\n",
       "      <th></th>\n",
       "      <th></th>\n",
       "      <th></th>\n",
       "      <th></th>\n",
       "      <th></th>\n",
       "      <th></th>\n",
       "      <th></th>\n",
       "      <th></th>\n",
       "    </tr>\n",
       "  </thead>\n",
       "  <tbody>\n",
       "    <tr>\n",
       "      <th>S0001</th>\n",
       "      <td>0.809075</td>\n",
       "      <td>0.123437</td>\n",
       "      <td>-0.345390</td>\n",
       "      <td>-0.297199</td>\n",
       "      <td>-0.869242</td>\n",
       "      <td>-0.605960</td>\n",
       "      <td>0.624934</td>\n",
       "      <td>1.139692</td>\n",
       "      <td>-0.380775</td>\n",
       "      <td>C</td>\n",
       "    </tr>\n",
       "    <tr>\n",
       "      <th>S0002</th>\n",
       "      <td>0.575979</td>\n",
       "      <td>0.684180</td>\n",
       "      <td>-0.018513</td>\n",
       "      <td>0.293169</td>\n",
       "      <td>-0.583907</td>\n",
       "      <td>-0.314143</td>\n",
       "      <td>-0.135248</td>\n",
       "      <td>0.258721</td>\n",
       "      <td>-0.627521</td>\n",
       "      <td>C</td>\n",
       "    </tr>\n",
       "    <tr>\n",
       "      <th>S0003</th>\n",
       "      <td>-1.632047</td>\n",
       "      <td>-0.000024</td>\n",
       "      <td>-1.972473</td>\n",
       "      <td>0.277587</td>\n",
       "      <td>1.100833</td>\n",
       "      <td>0.643122</td>\n",
       "      <td>0.262976</td>\n",
       "      <td>1.224759</td>\n",
       "      <td>0.462742</td>\n",
       "      <td>B</td>\n",
       "    </tr>\n",
       "    <tr>\n",
       "      <th>S0004</th>\n",
       "      <td>0.394833</td>\n",
       "      <td>-0.890256</td>\n",
       "      <td>0.267452</td>\n",
       "      <td>1.340907</td>\n",
       "      <td>-0.643243</td>\n",
       "      <td>-0.889562</td>\n",
       "      <td>0.267921</td>\n",
       "      <td>0.977567</td>\n",
       "      <td>-1.092061</td>\n",
       "      <td>C</td>\n",
       "    </tr>\n",
       "    <tr>\n",
       "      <th>S0005</th>\n",
       "      <td>-0.483467</td>\n",
       "      <td>0.663894</td>\n",
       "      <td>1.474338</td>\n",
       "      <td>-0.772215</td>\n",
       "      <td>1.499572</td>\n",
       "      <td>0.313982</td>\n",
       "      <td>-1.026059</td>\n",
       "      <td>-0.811087</td>\n",
       "      <td>-0.400609</td>\n",
       "      <td>B</td>\n",
       "    </tr>\n",
       "    <tr>\n",
       "      <th>...</th>\n",
       "      <td>...</td>\n",
       "      <td>...</td>\n",
       "      <td>...</td>\n",
       "      <td>...</td>\n",
       "      <td>...</td>\n",
       "      <td>...</td>\n",
       "      <td>...</td>\n",
       "      <td>...</td>\n",
       "      <td>...</td>\n",
       "      <td>...</td>\n",
       "    </tr>\n",
       "    <tr>\n",
       "      <th>S0081</th>\n",
       "      <td>-1.514208</td>\n",
       "      <td>-0.045448</td>\n",
       "      <td>1.524851</td>\n",
       "      <td>0.994903</td>\n",
       "      <td>0.491319</td>\n",
       "      <td>0.138541</td>\n",
       "      <td>-0.304474</td>\n",
       "      <td>2.255616</td>\n",
       "      <td>-1.094593</td>\n",
       "      <td>B</td>\n",
       "    </tr>\n",
       "    <tr>\n",
       "      <th>S0082</th>\n",
       "      <td>0.787575</td>\n",
       "      <td>-0.271021</td>\n",
       "      <td>-0.725565</td>\n",
       "      <td>0.187492</td>\n",
       "      <td>-0.567811</td>\n",
       "      <td>-1.260659</td>\n",
       "      <td>1.579192</td>\n",
       "      <td>1.089706</td>\n",
       "      <td>-0.981987</td>\n",
       "      <td>C</td>\n",
       "    </tr>\n",
       "    <tr>\n",
       "      <th>S0083</th>\n",
       "      <td>-0.013295</td>\n",
       "      <td>1.104562</td>\n",
       "      <td>0.967546</td>\n",
       "      <td>-0.150834</td>\n",
       "      <td>0.545597</td>\n",
       "      <td>-0.462985</td>\n",
       "      <td>-1.735071</td>\n",
       "      <td>-0.419119</td>\n",
       "      <td>-0.330752</td>\n",
       "      <td>B</td>\n",
       "    </tr>\n",
       "    <tr>\n",
       "      <th>S0084</th>\n",
       "      <td>0.745524</td>\n",
       "      <td>0.676685</td>\n",
       "      <td>3.081145</td>\n",
       "      <td>-0.439484</td>\n",
       "      <td>-0.614277</td>\n",
       "      <td>-0.777089</td>\n",
       "      <td>-0.062998</td>\n",
       "      <td>-0.884711</td>\n",
       "      <td>-0.670557</td>\n",
       "      <td>C</td>\n",
       "    </tr>\n",
       "    <tr>\n",
       "      <th>S0085</th>\n",
       "      <td>-1.455618</td>\n",
       "      <td>1.732315</td>\n",
       "      <td>-0.732110</td>\n",
       "      <td>0.319986</td>\n",
       "      <td>1.090519</td>\n",
       "      <td>1.081270</td>\n",
       "      <td>-1.853390</td>\n",
       "      <td>1.352055</td>\n",
       "      <td>-0.316673</td>\n",
       "      <td>B</td>\n",
       "    </tr>\n",
       "  </tbody>\n",
       "</table>\n",
       "<p>85 rows × 10 columns</p>\n",
       "</div>"
      ],
      "text/plain": [
       "       Dry_Grocery     Dairy  Frozen_Food      Meat   Produce    Floral  \\\n",
       "Store                                                                     \n",
       "S0001     0.809075  0.123437    -0.345390 -0.297199 -0.869242 -0.605960   \n",
       "S0002     0.575979  0.684180    -0.018513  0.293169 -0.583907 -0.314143   \n",
       "S0003    -1.632047 -0.000024    -1.972473  0.277587  1.100833  0.643122   \n",
       "S0004     0.394833 -0.890256     0.267452  1.340907 -0.643243 -0.889562   \n",
       "S0005    -0.483467  0.663894     1.474338 -0.772215  1.499572  0.313982   \n",
       "...            ...       ...          ...       ...       ...       ...   \n",
       "S0081    -1.514208 -0.045448     1.524851  0.994903  0.491319  0.138541   \n",
       "S0082     0.787575 -0.271021    -0.725565  0.187492 -0.567811 -1.260659   \n",
       "S0083    -0.013295  1.104562     0.967546 -0.150834  0.545597 -0.462985   \n",
       "S0084     0.745524  0.676685     3.081145 -0.439484 -0.614277 -0.777089   \n",
       "S0085    -1.455618  1.732315    -0.732110  0.319986  1.090519  1.081270   \n",
       "\n",
       "           Deli    Bakery  General_Merchandise cluster  \n",
       "Store                                                   \n",
       "S0001  0.624934  1.139692            -0.380775       C  \n",
       "S0002 -0.135248  0.258721            -0.627521       C  \n",
       "S0003  0.262976  1.224759             0.462742       B  \n",
       "S0004  0.267921  0.977567            -1.092061       C  \n",
       "S0005 -1.026059 -0.811087            -0.400609       B  \n",
       "...         ...       ...                  ...     ...  \n",
       "S0081 -0.304474  2.255616            -1.094593       B  \n",
       "S0082  1.579192  1.089706            -0.981987       C  \n",
       "S0083 -1.735071 -0.419119            -0.330752       B  \n",
       "S0084 -0.062998 -0.884711            -0.670557       C  \n",
       "S0085 -1.853390  1.352055            -0.316673       B  \n",
       "\n",
       "[85 rows x 10 columns]"
      ]
     },
     "execution_count": 25,
     "metadata": {},
     "output_type": "execute_result"
    }
   ],
   "source": [
    "# Scaled percentage data (within each product category) merged with Cluster number. \n",
    "pct_per_category_scaled_df = pd.DataFrame(scaler.fit_transform(pct_sales_per_category_2015), \n",
    "                                          columns=pct_sales_per_category_2015.columns, \n",
    "                                          index = pct_sales_per_category_2015.index)\n",
    "\n",
    "scaled_pct_cluster_df = pct_per_category_scaled_df.merge(store_cluster_no, how = 'inner', \n",
    "                                left_on = pct_per_category_scaled_df.index,\n",
    "                                 right_on = store_cluster_no.index, right_index=True ).iloc[:, 1:]\n",
    "scaled_pct_cluster_df"
   ]
  },
  {
   "cell_type": "markdown",
   "metadata": {},
   "source": [
    "### 4.2.2. Clusters Comparison\n",
    "\n",
    "> In this section, I compare the three clusters, based on the the results of the clustering model. The different characteristic are also visaully explained. "
   ]
  },
  {
   "cell_type": "markdown",
   "metadata": {},
   "source": [
    "#### Cluster means of Individual Variables"
   ]
  },
  {
   "cell_type": "code",
   "execution_count": 26,
   "metadata": {
    "scrolled": true
   },
   "outputs": [
    {
     "data": {
      "text/html": [
       "<div>\n",
       "<style scoped>\n",
       "    .dataframe tbody tr th:only-of-type {\n",
       "        vertical-align: middle;\n",
       "    }\n",
       "\n",
       "    .dataframe tbody tr th {\n",
       "        vertical-align: top;\n",
       "    }\n",
       "\n",
       "    .dataframe thead th {\n",
       "        text-align: right;\n",
       "    }\n",
       "</style>\n",
       "<table border=\"1\" class=\"dataframe\">\n",
       "  <thead>\n",
       "    <tr style=\"text-align: right;\">\n",
       "      <th></th>\n",
       "      <th>Dry_Grocery</th>\n",
       "      <th>Dairy</th>\n",
       "      <th>Frozen_Food</th>\n",
       "      <th>Meat</th>\n",
       "      <th>Produce</th>\n",
       "      <th>Floral</th>\n",
       "      <th>Deli</th>\n",
       "      <th>Bakery</th>\n",
       "      <th>General_Merchandise</th>\n",
       "    </tr>\n",
       "    <tr>\n",
       "      <th>cluster</th>\n",
       "      <th></th>\n",
       "      <th></th>\n",
       "      <th></th>\n",
       "      <th></th>\n",
       "      <th></th>\n",
       "      <th></th>\n",
       "      <th></th>\n",
       "      <th></th>\n",
       "      <th></th>\n",
       "    </tr>\n",
       "  </thead>\n",
       "  <tbody>\n",
       "    <tr>\n",
       "      <th>A</th>\n",
       "      <td>0.329778</td>\n",
       "      <td>-0.765532</td>\n",
       "      <td>-0.391519</td>\n",
       "      <td>-0.086687</td>\n",
       "      <td>-0.512207</td>\n",
       "      <td>-0.303313</td>\n",
       "      <td>-0.233970</td>\n",
       "      <td>-0.899569</td>\n",
       "      <td>1.215688</td>\n",
       "    </tr>\n",
       "    <tr>\n",
       "      <th>B</th>\n",
       "      <td>-0.735069</td>\n",
       "      <td>0.706779</td>\n",
       "      <td>0.347951</td>\n",
       "      <td>-0.488687</td>\n",
       "      <td>1.020528</td>\n",
       "      <td>0.856773</td>\n",
       "      <td>-0.557932</td>\n",
       "      <td>0.399279</td>\n",
       "      <td>-0.306672</td>\n",
       "    </tr>\n",
       "    <tr>\n",
       "      <th>C</th>\n",
       "      <td>0.416124</td>\n",
       "      <td>-0.087556</td>\n",
       "      <td>-0.032898</td>\n",
       "      <td>0.489870</td>\n",
       "      <td>-0.539835</td>\n",
       "      <td>-0.541522</td>\n",
       "      <td>0.653374</td>\n",
       "      <td>0.276091</td>\n",
       "      <td>-0.577798</td>\n",
       "    </tr>\n",
       "  </tbody>\n",
       "</table>\n",
       "</div>"
      ],
      "text/plain": [
       "         Dry_Grocery     Dairy  Frozen_Food      Meat   Produce    Floral  \\\n",
       "cluster                                                                     \n",
       "A           0.329778 -0.765532    -0.391519 -0.086687 -0.512207 -0.303313   \n",
       "B          -0.735069  0.706779     0.347951 -0.488687  1.020528  0.856773   \n",
       "C           0.416124 -0.087556    -0.032898  0.489870 -0.539835 -0.541522   \n",
       "\n",
       "             Deli    Bakery  General_Merchandise  \n",
       "cluster                                           \n",
       "A       -0.233970 -0.899569             1.215688  \n",
       "B       -0.557932  0.399279            -0.306672  \n",
       "C        0.653374  0.276091            -0.577798  "
      ]
     },
     "execution_count": 26,
     "metadata": {},
     "output_type": "execute_result"
    }
   ],
   "source": [
    "cols =scaled_pct_cluster_df.columns[:-1]\n",
    "scaled_pct_cluster_df.groupby('cluster')[cols].mean()"
   ]
  },
  {
   "cell_type": "markdown",
   "metadata": {},
   "source": [
    "> **Findings:** Cluster \"A\" shows large negative number in the bakery category and large positive number in the category of general merchandise. We can understand the figures that the bakery products are **less** likely to be sold at stores in Cluster \"A\", comparing to the stores in other clusters. On the other hand, the products in general merchandise category are more likely to be sold. This fact can be also confirmed from the average proportion plot of general merchandise sales. See the barplot below. (Graph 1: General Merchandise Category Comparison between Clusters)\n",
    "\n",
    "> Unlike Cluster \"A\" and Cluster \"C\", the stores in Cluster \"B\" have relatively high sales on \"Produce, Dairy, and Floral\" product categories. I visualized the average sales of Produce product in each cluster (Graph 2). On the other hand, Cluster \"B\" shows less sales on the dried grocery products comparing to other clusters. Cluster \"C\" has relatively higher sales on \"Meat\" and \"Delicatessen\" products. (Graph 3)"
   ]
  },
  {
   "cell_type": "code",
   "execution_count": 27,
   "metadata": {},
   "outputs": [
    {
     "data": {
      "text/plain": [
       "Text(0.5, 1.0, 'Graph 1: General Merchandise Category Comparison between Clusters')"
      ]
     },
     "execution_count": 27,
     "metadata": {},
     "output_type": "execute_result"
    },
    {
     "data": {
      "image/png": "[encoded data removed]",
      "text/plain": [
       "<Figure size 576x432 with 1 Axes>"
      ]
     },
     "metadata": {},
     "output_type": "display_data"
    }
   ],
   "source": [
    "pct_per_category_cluster[['General_Merchandise', \n",
    "                          'Produce', 'Deli']] = pct_per_category_cluster[['General_Merchandise', 'Produce', 'Deli']]*100\n",
    "base_color = sns.color_palette()[0]\n",
    "cluster_order= ['A', 'B', 'C']\n",
    "\n",
    "plt.figure(figsize=[8,6])\n",
    "sns.barplot(data = pct_per_category_cluster, x = 'cluster', y = 'General_Merchandise',color = base_color, order = cluster_order)\n",
    "plt.ylabel('Average Sales General Merchandise in %', fontsize = 13)\n",
    "plt.xlabel('Cluster', fontsize = 13)\n",
    "plt.title('Graph 1: General Merchandise Category Comparison between Clusters', fontsize = 15)"
   ]
  },
  {
   "cell_type": "code",
   "execution_count": 28,
   "metadata": {
    "scrolled": false
   },
   "outputs": [
    {
     "data": {
      "text/plain": [
       "Text(0.5, 1.0, 'Graph 2: Produce Category Comparison between Clusters')"
      ]
     },
     "execution_count": 28,
     "metadata": {},
     "output_type": "execute_result"
    },
    {
     "data": {
      "image/png": "[encoded data removed]",
      "text/plain": [
       "<Figure size 576x432 with 1 Axes>"
      ]
     },
     "metadata": {},
     "output_type": "display_data"
    }
   ],
   "source": [
    "plt.figure(figsize=[8,6])\n",
    "sns.barplot(data = pct_per_category_cluster, x = 'cluster', y = 'Produce',color = base_color, order = cluster_order)\n",
    "plt.ylabel('Average Sales Produce in %', fontsize = 13)\n",
    "plt.xlabel('Cluster', fontsize = 13)\n",
    "plt.title('Graph 2: Produce Category Comparison between Clusters', fontsize = 15)"
   ]
  },
  {
   "cell_type": "code",
   "execution_count": 29,
   "metadata": {},
   "outputs": [
    {
     "data": {
      "text/plain": [
       "Text(0.5, 1.0, 'Graph 3: Deli Category Comparison between Clusters')"
      ]
     },
     "execution_count": 29,
     "metadata": {},
     "output_type": "execute_result"
    },
    {
     "data": {
      "image/png": "[encoded data removed]",
      "text/plain": [
       "<Figure size 576x432 with 1 Axes>"
      ]
     },
     "metadata": {},
     "output_type": "display_data"
    }
   ],
   "source": [
    "plt.figure(figsize=[8,6])\n",
    "sns.barplot(data = pct_per_category_cluster, x = 'cluster', y = 'Deli',color = base_color, order = cluster_order)\n",
    "plt.ylabel('Average Sales Deli in %', fontsize = 13)\n",
    "plt.xlabel('Cluster', fontsize = 13)\n",
    "plt.title('Graph 3: Deli Category Comparison between Clusters', fontsize = 15)"
   ]
  },
  {
   "cell_type": "markdown",
   "metadata": {},
   "source": [
    "### 4.3. Classification Models Comparisons\n",
    "\n",
    "> As earlier mentioned, the grocery store chain has 10 new stores opening up at the beginning of the year. Eventually, we want to predict the expected sales for these new stores, although there is no sales data for them yet. In this case, it seems more reasonable to match the most appropriate clusters with each of new store, and then predict the expected sales of new stores based on the matched clusters sales information. Therefore, I determine the cluster using each of the new store’s demographic data. In general, we use PCA to reduce the number of predictor variables. However, I leave all predictor variables in the model.<br><br> In this section, I matched which store cluster, each of the new stores should have, based on the demographic information using Classification Models. Note that we have three clusters, which is non-binary. Therefore Logistic Regression Model can not be applied. Instead, I applied (1) Decision Tree, (2) Random Forest and (4) Gradient Boosting models for this analysis. \n"
   ]
  },
  {
   "cell_type": "code",
   "execution_count": 30,
   "metadata": {},
   "outputs": [],
   "source": [
    "# I merged the cluster information with the demographic data for each store\n",
    "demographic_cluster = demographic.merge(store_cluster_no, how ='inner' ,\n",
    "                                        left_on = demographic['Store'], right_on = store_cluster_no.index).iloc[:, 1:]"
   ]
  },
  {
   "cell_type": "code",
   "execution_count": 31,
   "metadata": {},
   "outputs": [
    {
     "data": {
      "text/plain": [
       "(85, 46)"
      ]
     },
     "execution_count": 31,
     "metadata": {},
     "output_type": "execute_result"
    }
   ],
   "source": [
    "demographic_cluster.shape \n",
    "# Except for the store number and cluster columns, there are 44 demographic features in the dataset."
   ]
  },
  {
   "cell_type": "code",
   "execution_count": 32,
   "metadata": {},
   "outputs": [
    {
     "data": {
      "text/html": [
       "<div>\n",
       "<style scoped>\n",
       "    .dataframe tbody tr th:only-of-type {\n",
       "        vertical-align: middle;\n",
       "    }\n",
       "\n",
       "    .dataframe tbody tr th {\n",
       "        vertical-align: top;\n",
       "    }\n",
       "\n",
       "    .dataframe thead th {\n",
       "        text-align: right;\n",
       "    }\n",
       "</style>\n",
       "<table border=\"1\" class=\"dataframe\">\n",
       "  <thead>\n",
       "    <tr style=\"text-align: right;\">\n",
       "      <th></th>\n",
       "      <th>Store</th>\n",
       "      <th>Age0to9</th>\n",
       "      <th>Age10to17</th>\n",
       "      <th>Age18to24</th>\n",
       "      <th>Age25to29</th>\n",
       "      <th>Age30to39</th>\n",
       "      <th>Age40to49</th>\n",
       "      <th>Age50to64</th>\n",
       "      <th>Age65Plus</th>\n",
       "      <th>EdLTHS</th>\n",
       "      <th>...</th>\n",
       "      <th>PopWhite</th>\n",
       "      <th>HVal0to100K</th>\n",
       "      <th>HVal100Kto200K</th>\n",
       "      <th>HVal200Kto300K</th>\n",
       "      <th>HVal300Kto400K</th>\n",
       "      <th>HVal400Kto500K</th>\n",
       "      <th>HVal500Kto750K</th>\n",
       "      <th>HVal750KPlus</th>\n",
       "      <th>PopDens</th>\n",
       "      <th>cluster</th>\n",
       "    </tr>\n",
       "  </thead>\n",
       "  <tbody>\n",
       "    <tr>\n",
       "      <th>0</th>\n",
       "      <td>S0001</td>\n",
       "      <td>0.138163</td>\n",
       "      <td>0.111414</td>\n",
       "      <td>0.113228</td>\n",
       "      <td>0.081671</td>\n",
       "      <td>0.134924</td>\n",
       "      <td>0.128832</td>\n",
       "      <td>0.160429</td>\n",
       "      <td>0.131359</td>\n",
       "      <td>0.241935</td>\n",
       "      <td>...</td>\n",
       "      <td>0.454295</td>\n",
       "      <td>0.073853</td>\n",
       "      <td>0.115967</td>\n",
       "      <td>0.223511</td>\n",
       "      <td>0.301880</td>\n",
       "      <td>0.180786</td>\n",
       "      <td>0.097168</td>\n",
       "      <td>0.006836</td>\n",
       "      <td>4260.943672</td>\n",
       "      <td>C</td>\n",
       "    </tr>\n",
       "    <tr>\n",
       "      <th>1</th>\n",
       "      <td>S0002</td>\n",
       "      <td>0.138954</td>\n",
       "      <td>0.112723</td>\n",
       "      <td>0.100572</td>\n",
       "      <td>0.074832</td>\n",
       "      <td>0.121080</td>\n",
       "      <td>0.146961</td>\n",
       "      <td>0.195456</td>\n",
       "      <td>0.109422</td>\n",
       "      <td>0.125224</td>\n",
       "      <td>...</td>\n",
       "      <td>0.729696</td>\n",
       "      <td>0.124956</td>\n",
       "      <td>0.127915</td>\n",
       "      <td>0.206578</td>\n",
       "      <td>0.223808</td>\n",
       "      <td>0.174730</td>\n",
       "      <td>0.129133</td>\n",
       "      <td>0.012879</td>\n",
       "      <td>3061.060073</td>\n",
       "      <td>C</td>\n",
       "    </tr>\n",
       "    <tr>\n",
       "      <th>2</th>\n",
       "      <td>S0003</td>\n",
       "      <td>0.108582</td>\n",
       "      <td>0.091262</td>\n",
       "      <td>0.113486</td>\n",
       "      <td>0.111415</td>\n",
       "      <td>0.182909</td>\n",
       "      <td>0.144938</td>\n",
       "      <td>0.150248</td>\n",
       "      <td>0.097170</td>\n",
       "      <td>0.321860</td>\n",
       "      <td>...</td>\n",
       "      <td>0.182080</td>\n",
       "      <td>0.024665</td>\n",
       "      <td>0.065257</td>\n",
       "      <td>0.114870</td>\n",
       "      <td>0.150106</td>\n",
       "      <td>0.155462</td>\n",
       "      <td>0.251445</td>\n",
       "      <td>0.238196</td>\n",
       "      <td>13740.923328</td>\n",
       "      <td>B</td>\n",
       "    </tr>\n",
       "    <tr>\n",
       "      <th>3</th>\n",
       "      <td>S0004</td>\n",
       "      <td>0.142758</td>\n",
       "      <td>0.102582</td>\n",
       "      <td>0.083941</td>\n",
       "      <td>0.062370</td>\n",
       "      <td>0.131661</td>\n",
       "      <td>0.134041</td>\n",
       "      <td>0.158762</td>\n",
       "      <td>0.183922</td>\n",
       "      <td>0.198362</td>\n",
       "      <td>...</td>\n",
       "      <td>0.516900</td>\n",
       "      <td>0.175374</td>\n",
       "      <td>0.112920</td>\n",
       "      <td>0.095161</td>\n",
       "      <td>0.247891</td>\n",
       "      <td>0.152583</td>\n",
       "      <td>0.161462</td>\n",
       "      <td>0.054610</td>\n",
       "      <td>2947.367203</td>\n",
       "      <td>C</td>\n",
       "    </tr>\n",
       "    <tr>\n",
       "      <th>4</th>\n",
       "      <td>S0005</td>\n",
       "      <td>0.112396</td>\n",
       "      <td>0.083652</td>\n",
       "      <td>0.091313</td>\n",
       "      <td>0.103056</td>\n",
       "      <td>0.183739</td>\n",
       "      <td>0.146511</td>\n",
       "      <td>0.165692</td>\n",
       "      <td>0.113630</td>\n",
       "      <td>0.164272</td>\n",
       "      <td>...</td>\n",
       "      <td>0.396718</td>\n",
       "      <td>0.021852</td>\n",
       "      <td>0.022854</td>\n",
       "      <td>0.070837</td>\n",
       "      <td>0.113448</td>\n",
       "      <td>0.126377</td>\n",
       "      <td>0.208777</td>\n",
       "      <td>0.435855</td>\n",
       "      <td>12124.740209</td>\n",
       "      <td>B</td>\n",
       "    </tr>\n",
       "  </tbody>\n",
       "</table>\n",
       "<p>5 rows × 46 columns</p>\n",
       "</div>"
      ],
      "text/plain": [
       "   Store   Age0to9  Age10to17  Age18to24  Age25to29  Age30to39  Age40to49  \\\n",
       "0  S0001  0.138163   0.111414   0.113228   0.081671   0.134924   0.128832   \n",
       "1  S0002  0.138954   0.112723   0.100572   0.074832   0.121080   0.146961   \n",
       "2  S0003  0.108582   0.091262   0.113486   0.111415   0.182909   0.144938   \n",
       "3  S0004  0.142758   0.102582   0.083941   0.062370   0.131661   0.134041   \n",
       "4  S0005  0.112396   0.083652   0.091313   0.103056   0.183739   0.146511   \n",
       "\n",
       "   Age50to64  Age65Plus    EdLTHS  ...  PopWhite  HVal0to100K  HVal100Kto200K  \\\n",
       "0   0.160429   0.131359  0.241935  ...  0.454295     0.073853        0.115967   \n",
       "1   0.195456   0.109422  0.125224  ...  0.729696     0.124956        0.127915   \n",
       "2   0.150248   0.097170  0.321860  ...  0.182080     0.024665        0.065257   \n",
       "3   0.158762   0.183922  0.198362  ...  0.516900     0.175374        0.112920   \n",
       "4   0.165692   0.113630  0.164272  ...  0.396718     0.021852        0.022854   \n",
       "\n",
       "   HVal200Kto300K  HVal300Kto400K  HVal400Kto500K  HVal500Kto750K  \\\n",
       "0        0.223511        0.301880        0.180786        0.097168   \n",
       "1        0.206578        0.223808        0.174730        0.129133   \n",
       "2        0.114870        0.150106        0.155462        0.251445   \n",
       "3        0.095161        0.247891        0.152583        0.161462   \n",
       "4        0.070837        0.113448        0.126377        0.208777   \n",
       "\n",
       "   HVal750KPlus       PopDens  cluster  \n",
       "0      0.006836   4260.943672        C  \n",
       "1      0.012879   3061.060073        C  \n",
       "2      0.238196  13740.923328        B  \n",
       "3      0.054610   2947.367203        C  \n",
       "4      0.435855  12124.740209        B  \n",
       "\n",
       "[5 rows x 46 columns]"
      ]
     },
     "execution_count": 32,
     "metadata": {},
     "output_type": "execute_result"
    }
   ],
   "source": [
    "demographic_cluster.head()  # Glance at the demographic_cluster dataset"
   ]
  },
  {
   "cell_type": "code",
   "execution_count": 33,
   "metadata": {},
   "outputs": [],
   "source": [
    "# Import the relevant libraries. \n",
    "from sklearn.model_selection import train_test_split\n",
    "from sklearn import metrics\n",
    "from sklearn.tree import DecisionTreeClassifier\n",
    "from sklearn.ensemble import RandomForestClassifier\n",
    "from sklearn.ensemble import GradientBoostingClassifier\n",
    "# Evaluations\n",
    "from sklearn.metrics import classification_report\n",
    "from sklearn.metrics import confusion_matrix"
   ]
  },
  {
   "cell_type": "code",
   "execution_count": 34,
   "metadata": {},
   "outputs": [],
   "source": [
    "# Load dataset\n",
    "inputs = demographic_cluster.iloc[:, 1:45]\n",
    "target = demographic_cluster.iloc[:, -1]\n",
    "\n",
    "# Split into train/test sets\n",
    "train_X, test_X, train_y, test_y = train_test_split(inputs, target, test_size=0.20, random_state=33)"
   ]
  },
  {
   "cell_type": "code",
   "execution_count": 35,
   "metadata": {},
   "outputs": [
    {
     "data": {
      "text/plain": [
       "((68, 44), (68,))"
      ]
     },
     "execution_count": 35,
     "metadata": {},
     "output_type": "execute_result"
    }
   ],
   "source": [
    "train_X.shape, train_y.shape"
   ]
  },
  {
   "cell_type": "markdown",
   "metadata": {},
   "source": [
    "### 4.3.1. Deicision Tree"
   ]
  },
  {
   "cell_type": "code",
   "execution_count": 36,
   "metadata": {},
   "outputs": [],
   "source": [
    "# Define and fit a model\n",
    "model_dt = DecisionTreeClassifier(class_weight='balanced', random_state=33)\n",
    "model_dt.fit(train_X, train_y)\n",
    "\n",
    "# Predict the test set results\n",
    "ypred_dt = model_dt.predict(test_X) # Predict class labels for samples in X.\n",
    "ypred_prob_dt = model_dt.predict_proba(test_X) # Probability estimates.\n",
    "\n",
    "# Retrieve the probabilities for the positive class\n",
    "yhat_positive_dt = ypred_prob_dt[:, 1]"
   ]
  },
  {
   "cell_type": "code",
   "execution_count": 37,
   "metadata": {},
   "outputs": [
    {
     "data": {
      "text/plain": [
       "array([[2, 0, 0],\n",
       "       [0, 4, 3],\n",
       "       [1, 1, 6]], dtype=int64)"
      ]
     },
     "execution_count": 37,
     "metadata": {},
     "output_type": "execute_result"
    }
   ],
   "source": [
    "# Confusion Matrix for Decision Tree Model \n",
    "cm_dt = confusion_matrix(test_y, ypred_dt)\n",
    "cm_dt"
   ]
  },
  {
   "cell_type": "code",
   "execution_count": 38,
   "metadata": {
    "scrolled": true
   },
   "outputs": [
    {
     "name": "stdout",
     "output_type": "stream",
     "text": [
      "Decision Tree Model: \n",
      "              precision    recall  f1-score   support\n",
      "\n",
      "           A       0.67      1.00      0.80         2\n",
      "           B       0.80      0.57      0.67         7\n",
      "           C       0.67      0.75      0.71         8\n",
      "\n",
      "    accuracy                           0.71        17\n",
      "   macro avg       0.71      0.77      0.72        17\n",
      "weighted avg       0.72      0.71      0.70        17\n",
      "\n"
     ]
    }
   ],
   "source": [
    "# Evaluation Metrics: \"Precision\", Recall, F-Score\n",
    "print('Decision Tree Model: ') \n",
    "print(classification_report(test_y, ypred_dt))"
   ]
  },
  {
   "cell_type": "markdown",
   "metadata": {},
   "source": [
    "### 4.3.2. Random Forest"
   ]
  },
  {
   "cell_type": "code",
   "execution_count": 39,
   "metadata": {},
   "outputs": [],
   "source": [
    "# Define and fit a model\n",
    "model_rf=  RandomForestClassifier(random_state=33)\n",
    "model_rf.fit(train_X, train_y)\n",
    "\n",
    "# Predict the test set results\n",
    "ypred_rf = model_rf.predict(test_X) # Predict class labels for samples in X.\n",
    "ypred_prob_rf = model_rf.predict_proba(test_X) # Probability estimates.\n",
    "\n",
    "# Retrieve the probabilities for the positive classra\n",
    "yhat_positive_rf = ypred_prob_rf[:, 1]"
   ]
  },
  {
   "cell_type": "code",
   "execution_count": 40,
   "metadata": {},
   "outputs": [
    {
     "data": {
      "text/plain": [
       "array([[0, 0, 2],\n",
       "       [0, 5, 2],\n",
       "       [1, 1, 6]], dtype=int64)"
      ]
     },
     "execution_count": 40,
     "metadata": {},
     "output_type": "execute_result"
    }
   ],
   "source": [
    "# Confusion Matrix for Random Forest Model\n",
    "cm_rf = confusion_matrix(test_y, ypred_rf)\n",
    "cm_rf"
   ]
  },
  {
   "cell_type": "code",
   "execution_count": 41,
   "metadata": {
    "scrolled": true
   },
   "outputs": [
    {
     "name": "stdout",
     "output_type": "stream",
     "text": [
      "Random Forest Model: \n",
      "              precision    recall  f1-score   support\n",
      "\n",
      "           A       0.00      0.00      0.00         2\n",
      "           B       0.83      0.71      0.77         7\n",
      "           C       0.60      0.75      0.67         8\n",
      "\n",
      "    accuracy                           0.65        17\n",
      "   macro avg       0.48      0.49      0.48        17\n",
      "weighted avg       0.63      0.65      0.63        17\n",
      "\n"
     ]
    }
   ],
   "source": [
    "# Evaluation Metrics: \"Precision\", Recall, F-Score\n",
    "print('Random Forest Model: ') \n",
    "print(classification_report(test_y, ypred_rf))"
   ]
  },
  {
   "cell_type": "markdown",
   "metadata": {},
   "source": [
    "### 4.3.3. Gradient Boosting Model"
   ]
  },
  {
   "cell_type": "code",
   "execution_count": 42,
   "metadata": {},
   "outputs": [],
   "source": [
    "# Define and fit a model\n",
    "model_gbm = GradientBoostingClassifier(random_state=33)\n",
    "model_gbm.fit(train_X, train_y)\n",
    "\n",
    "# Predict the test set results\n",
    "ypred_gbm = model_gbm.predict(test_X) # Predict class labels for samples in X.\n",
    "ypred_prob_gbm = model_gbm.predict_proba(test_X) # Probability estimates.\n",
    "\n",
    "# Retrieve the probabilities for the positive class\n",
    "yhat_positive_gbm = ypred_prob_gbm[:, 1]"
   ]
  },
  {
   "cell_type": "code",
   "execution_count": 43,
   "metadata": {},
   "outputs": [
    {
     "data": {
      "text/plain": [
       "array([[1, 0, 1],\n",
       "       [0, 5, 2],\n",
       "       [0, 1, 7]], dtype=int64)"
      ]
     },
     "execution_count": 43,
     "metadata": {},
     "output_type": "execute_result"
    }
   ],
   "source": [
    "# Confusion Matrix for Gradient Boosting Model\n",
    "cm_gbm = confusion_matrix(test_y, ypred_gbm)\n",
    "cm_gbm"
   ]
  },
  {
   "cell_type": "code",
   "execution_count": 44,
   "metadata": {
    "scrolled": true
   },
   "outputs": [
    {
     "name": "stdout",
     "output_type": "stream",
     "text": [
      "GradientBoosting Model: \n",
      "              precision    recall  f1-score   support\n",
      "\n",
      "           A       1.00      0.50      0.67         2\n",
      "           B       0.83      0.71      0.77         7\n",
      "           C       0.70      0.88      0.78         8\n",
      "\n",
      "    accuracy                           0.76        17\n",
      "   macro avg       0.84      0.70      0.74        17\n",
      "weighted avg       0.79      0.76      0.76        17\n",
      "\n"
     ]
    }
   ],
   "source": [
    "# Evaluation Metrics: \"Precision\", Recall, F-Score\n",
    "print('GradientBoosting Model: ') \n",
    "print(classification_report(test_y, ypred_gbm))"
   ]
  },
  {
   "cell_type": "code",
   "execution_count": 45,
   "metadata": {
    "scrolled": false
   },
   "outputs": [
    {
     "name": "stdout",
     "output_type": "stream",
     "text": [
      "Feature: Age0to9, Score: 0.323764\n",
      "Feature: Age10to17, Score: 0.054625\n",
      "Feature: Age18to24, Score: 0.000690\n",
      "Feature: Age25to29, Score: 0.008759\n",
      "Feature: Age30to39, Score: 0.000177\n",
      "Feature: Age40to49, Score: 0.000369\n",
      "Feature: Age50to64, Score: 0.001382\n",
      "Feature: Age65Plus, Score: 0.030976\n",
      "Feature: EdLTHS, Score: 0.001813\n",
      "Feature: EdHSGrad, Score: 0.000026\n",
      "Feature: EdSomeCol, Score: 0.003101\n",
      "Feature: EdAssociate, Score: 0.009231\n",
      "Feature: EdBachelor, Score: 0.000603\n",
      "Feature: EdMaster, Score: 0.133167\n",
      "Feature: EdProfSchl, Score: 0.000469\n",
      "Feature: EdDoctorate, Score: 0.000014\n",
      "Feature: HHSz1Per, Score: 0.008574\n",
      "Feature: HHSz2Per, Score: 0.022388\n",
      "Feature: HHSz3Per, Score: 0.010228\n",
      "Feature: HHSz4Per, Score: 0.010424\n",
      "Feature: HHSz5PlusPer, Score: 0.020012\n",
      "Feature: HHIncU25K, Score: 0.002478\n",
      "Feature: HHInc25Kto50K, Score: 0.003704\n",
      "Feature: HHInc50Kto75K, Score: 0.014765\n",
      "Feature: HHInc75Kto100K, Score: 0.020228\n",
      "Feature: HHInc100Kto150K, Score: 0.006498\n",
      "Feature: HHInc150Kto250K, Score: 0.000000\n",
      "Feature: HHInc250KPlus, Score: 0.000068\n",
      "Feature: PopAsian, Score: 0.000091\n",
      "Feature: PopBlack, Score: 0.026732\n",
      "Feature: PopHispanic, Score: 0.000867\n",
      "Feature: PopMulti, Score: 0.027200\n",
      "Feature: PopNativeAmer, Score: 0.000000\n",
      "Feature: PopOther, Score: 0.005308\n",
      "Feature: PopPacIsl, Score: 0.000082\n",
      "Feature: PopWhite, Score: 0.002991\n",
      "Feature: HVal0to100K, Score: 0.000000\n",
      "Feature: HVal100Kto200K, Score: 0.017287\n",
      "Feature: HVal200Kto300K, Score: 0.000012\n",
      "Feature: HVal300Kto400K, Score: 0.025154\n",
      "Feature: HVal400Kto500K, Score: 0.000040\n",
      "Feature: HVal500Kto750K, Score: 0.004031\n",
      "Feature: HVal750KPlus, Score: 0.198343\n",
      "Feature: PopDens, Score: 0.003329\n"
     ]
    },
    {
     "data": {
      "image/png": "[encoded data removed]",
      "text/plain": [
       "<Figure size 720x576 with 1 Axes>"
      ]
     },
     "metadata": {},
     "output_type": "display_data"
    }
   ],
   "source": [
    "plt.figure(figsize=(10,8))\n",
    "# get importance\n",
    "importance_gbm = model_gbm.feature_importances_\n",
    "\n",
    "features_gbm = dict(zip(train_X.columns, importance_gbm))\n",
    "features_sorted_gbm = sorted(features_gbm, key=features_gbm.get, reverse=True)\n",
    "\n",
    "# summarize feature importance\n",
    "for i,v in zip(train_X.columns, importance_gbm):\n",
    "    print('Feature: {}, Score: {:5f}' .format(i,v))\n",
    "# plot feature importance\n",
    "base_color = sns.color_palette()[0]\n",
    "sns.barplot(y = [x for x in train_X.columns ], x= importance_gbm , color = base_color, order = features_sorted_gbm)\n",
    "plt.title('Variance Important - Gradient Boosting Model ')\n",
    "plt.show();"
   ]
  },
  {
   "cell_type": "markdown",
   "metadata": {},
   "source": [
    "> Based on the confusion matrices, the Gradient Boosting Model achieved the largest number of correct predictions. Also, the overall accuracy rate shows that the Boosted Model shows the best performance. According to the Variable Importance Plot in the Boosted Model report, “Age0to9”, “HVal750KPlus”, “EdMaster” are the three most important variables which explain the relationship between the demographic factors and store clusters. Note that the results can be different depending on the random seeds. \n",
    "\n",
    "> Now, I predict the most desirable clusters for each new store using the Gradient Boosting Model."
   ]
  },
  {
   "cell_type": "code",
   "execution_count": 46,
   "metadata": {},
   "outputs": [],
   "source": [
    "new_stores= storeinfo.query('Type==\"New\"')\n",
    "new_stores_demo = new_stores.merge(demographic, how = 'inner', left_on = 'Store', right_on ='Store')\n",
    "new_stores_demo_lic = new_stores_demo.iloc[:, 6:] "
   ]
  },
  {
   "cell_type": "code",
   "execution_count": 47,
   "metadata": {
    "scrolled": true
   },
   "outputs": [
    {
     "data": {
      "text/html": [
       "<div>\n",
       "<style scoped>\n",
       "    .dataframe tbody tr th:only-of-type {\n",
       "        vertical-align: middle;\n",
       "    }\n",
       "\n",
       "    .dataframe tbody tr th {\n",
       "        vertical-align: top;\n",
       "    }\n",
       "\n",
       "    .dataframe thead th {\n",
       "        text-align: right;\n",
       "    }\n",
       "</style>\n",
       "<table border=\"1\" class=\"dataframe\">\n",
       "  <thead>\n",
       "    <tr style=\"text-align: right;\">\n",
       "      <th></th>\n",
       "      <th>Store</th>\n",
       "      <th>cluster</th>\n",
       "      <th>Type</th>\n",
       "    </tr>\n",
       "  </thead>\n",
       "  <tbody>\n",
       "    <tr>\n",
       "      <th>0</th>\n",
       "      <td>S0086</td>\n",
       "      <td>C</td>\n",
       "      <td>New</td>\n",
       "    </tr>\n",
       "    <tr>\n",
       "      <th>1</th>\n",
       "      <td>S0087</td>\n",
       "      <td>B</td>\n",
       "      <td>New</td>\n",
       "    </tr>\n",
       "    <tr>\n",
       "      <th>2</th>\n",
       "      <td>S0088</td>\n",
       "      <td>C</td>\n",
       "      <td>New</td>\n",
       "    </tr>\n",
       "    <tr>\n",
       "      <th>3</th>\n",
       "      <td>S0089</td>\n",
       "      <td>B</td>\n",
       "      <td>New</td>\n",
       "    </tr>\n",
       "    <tr>\n",
       "      <th>4</th>\n",
       "      <td>S0090</td>\n",
       "      <td>B</td>\n",
       "      <td>New</td>\n",
       "    </tr>\n",
       "    <tr>\n",
       "      <th>5</th>\n",
       "      <td>S0091</td>\n",
       "      <td>A</td>\n",
       "      <td>New</td>\n",
       "    </tr>\n",
       "    <tr>\n",
       "      <th>6</th>\n",
       "      <td>S0092</td>\n",
       "      <td>B</td>\n",
       "      <td>New</td>\n",
       "    </tr>\n",
       "    <tr>\n",
       "      <th>7</th>\n",
       "      <td>S0093</td>\n",
       "      <td>A</td>\n",
       "      <td>New</td>\n",
       "    </tr>\n",
       "    <tr>\n",
       "      <th>8</th>\n",
       "      <td>S0094</td>\n",
       "      <td>B</td>\n",
       "      <td>New</td>\n",
       "    </tr>\n",
       "    <tr>\n",
       "      <th>9</th>\n",
       "      <td>S0095</td>\n",
       "      <td>B</td>\n",
       "      <td>New</td>\n",
       "    </tr>\n",
       "  </tbody>\n",
       "</table>\n",
       "</div>"
      ],
      "text/plain": [
       "   Store cluster Type\n",
       "0  S0086       C  New\n",
       "1  S0087       B  New\n",
       "2  S0088       C  New\n",
       "3  S0089       B  New\n",
       "4  S0090       B  New\n",
       "5  S0091       A  New\n",
       "6  S0092       B  New\n",
       "7  S0093       A  New\n",
       "8  S0094       B  New\n",
       "9  S0095       B  New"
      ]
     },
     "execution_count": 47,
     "metadata": {},
     "output_type": "execute_result"
    }
   ],
   "source": [
    "new_stores_cluster = pd.DataFrame( {'Store':new_stores_demo.Store , 'cluster': model_gbm.predict(new_stores_demo_lic) } )\n",
    "new_stores_cluster['Type'] = 'New'\n",
    "new_stores_cluster"
   ]
  },
  {
   "cell_type": "markdown",
   "metadata": {},
   "source": [
    "> According to the prediction based on Gradient Boosting Model, 2, 6, 2 new stores are included in A, B, C clusters, respectively. "
   ]
  },
  {
   "cell_type": "code",
   "execution_count": 48,
   "metadata": {
    "scrolled": false
   },
   "outputs": [
    {
     "data": {
      "text/html": [
       "<div>\n",
       "<style scoped>\n",
       "    .dataframe tbody tr th:only-of-type {\n",
       "        vertical-align: middle;\n",
       "    }\n",
       "\n",
       "    .dataframe tbody tr th {\n",
       "        vertical-align: top;\n",
       "    }\n",
       "\n",
       "    .dataframe thead th {\n",
       "        text-align: right;\n",
       "    }\n",
       "</style>\n",
       "<table border=\"1\" class=\"dataframe\">\n",
       "  <thead>\n",
       "    <tr style=\"text-align: right;\">\n",
       "      <th></th>\n",
       "      <th>Store</th>\n",
       "      <th>cluster</th>\n",
       "      <th>Type</th>\n",
       "    </tr>\n",
       "  </thead>\n",
       "  <tbody>\n",
       "    <tr>\n",
       "      <th>0</th>\n",
       "      <td>S0001</td>\n",
       "      <td>C</td>\n",
       "      <td>Existing</td>\n",
       "    </tr>\n",
       "    <tr>\n",
       "      <th>1</th>\n",
       "      <td>S0002</td>\n",
       "      <td>C</td>\n",
       "      <td>Existing</td>\n",
       "    </tr>\n",
       "    <tr>\n",
       "      <th>2</th>\n",
       "      <td>S0003</td>\n",
       "      <td>B</td>\n",
       "      <td>Existing</td>\n",
       "    </tr>\n",
       "    <tr>\n",
       "      <th>3</th>\n",
       "      <td>S0004</td>\n",
       "      <td>C</td>\n",
       "      <td>Existing</td>\n",
       "    </tr>\n",
       "    <tr>\n",
       "      <th>4</th>\n",
       "      <td>S0005</td>\n",
       "      <td>B</td>\n",
       "      <td>Existing</td>\n",
       "    </tr>\n",
       "    <tr>\n",
       "      <th>...</th>\n",
       "      <td>...</td>\n",
       "      <td>...</td>\n",
       "      <td>...</td>\n",
       "    </tr>\n",
       "    <tr>\n",
       "      <th>5</th>\n",
       "      <td>S0091</td>\n",
       "      <td>A</td>\n",
       "      <td>New</td>\n",
       "    </tr>\n",
       "    <tr>\n",
       "      <th>6</th>\n",
       "      <td>S0092</td>\n",
       "      <td>B</td>\n",
       "      <td>New</td>\n",
       "    </tr>\n",
       "    <tr>\n",
       "      <th>7</th>\n",
       "      <td>S0093</td>\n",
       "      <td>A</td>\n",
       "      <td>New</td>\n",
       "    </tr>\n",
       "    <tr>\n",
       "      <th>8</th>\n",
       "      <td>S0094</td>\n",
       "      <td>B</td>\n",
       "      <td>New</td>\n",
       "    </tr>\n",
       "    <tr>\n",
       "      <th>9</th>\n",
       "      <td>S0095</td>\n",
       "      <td>B</td>\n",
       "      <td>New</td>\n",
       "    </tr>\n",
       "  </tbody>\n",
       "</table>\n",
       "<p>95 rows × 3 columns</p>\n",
       "</div>"
      ],
      "text/plain": [
       "    Store cluster      Type\n",
       "0   S0001       C  Existing\n",
       "1   S0002       C  Existing\n",
       "2   S0003       B  Existing\n",
       "3   S0004       C  Existing\n",
       "4   S0005       B  Existing\n",
       "..    ...     ...       ...\n",
       "5   S0091       A       New\n",
       "6   S0092       B       New\n",
       "7   S0093       A       New\n",
       "8   S0094       B       New\n",
       "9   S0095       B       New\n",
       "\n",
       "[95 rows x 3 columns]"
      ]
     },
     "execution_count": 48,
     "metadata": {},
     "output_type": "execute_result"
    }
   ],
   "source": [
    "store_cluster_no['Type'] = 'Existing'\n",
    "all_store_cluster = store_cluster_no.reset_index().append(new_stores_cluster)\n",
    "all_store_cluster"
   ]
  },
  {
   "cell_type": "code",
   "execution_count": 49,
   "metadata": {},
   "outputs": [],
   "source": [
    "# Export the findings as a csv file for the 3rd part of analysis\n",
    "all_store_cluster.to_csv('all_store_cluster.csv',index=False)"
   ]
  },
  {
   "cell_type": "markdown",
   "metadata": {},
   "source": [
    "### 4.4. Forecasting Produce Sales\n",
    "\n",
    "The forecasting analysis will be continued in the third part of analysis. "
   ]
  }
 ],
 "metadata": {
  "kernelspec": {
   "display_name": "Python 3",
   "language": "python",
   "name": "python3"
  },
  "language_info": {
   "codemirror_mode": {
    "name": "ipython",
    "version": 3
   },
   "file_extension": ".py",
   "mimetype": "text/x-python",
   "name": "python",
   "nbconvert_exporter": "python",
   "pygments_lexer": "ipython3",
   "version": "3.7.6"
  }
 },
 "nbformat": 4,
 "nbformat_minor": 4
}
